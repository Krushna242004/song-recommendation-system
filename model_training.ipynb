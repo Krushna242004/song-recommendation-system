{
 "cells": [
  {
   "cell_type": "code",
   "execution_count": 1,
   "id": "fc22dcc5-343c-4f56-a237-28113847aa78",
   "metadata": {},
   "outputs": [],
   "source": [
    "import pandas as pd"
   ]
  },
  {
   "cell_type": "code",
   "execution_count": 2,
   "id": "e7f6cba2-a207-4999-bc36-566e80f16d6d",
   "metadata": {},
   "outputs": [],
   "source": [
    "df = pd.read_csv(\"spotify_millsongdata.csv\")"
   ]
  },
  {
   "cell_type": "code",
   "execution_count": 3,
   "id": "a99b03aa-2973-42e2-a894-2ba86aadfa39",
   "metadata": {},
   "outputs": [
    {
     "data": {
      "text/html": [
       "<div>\n",
       "<style scoped>\n",
       "    .dataframe tbody tr th:only-of-type {\n",
       "        vertical-align: middle;\n",
       "    }\n",
       "\n",
       "    .dataframe tbody tr th {\n",
       "        vertical-align: top;\n",
       "    }\n",
       "\n",
       "    .dataframe thead th {\n",
       "        text-align: right;\n",
       "    }\n",
       "</style>\n",
       "<table border=\"1\" class=\"dataframe\">\n",
       "  <thead>\n",
       "    <tr style=\"text-align: right;\">\n",
       "      <th></th>\n",
       "      <th>artist</th>\n",
       "      <th>song</th>\n",
       "      <th>link</th>\n",
       "      <th>text</th>\n",
       "      <th>spotify_link</th>\n",
       "    </tr>\n",
       "  </thead>\n",
       "  <tbody>\n",
       "    <tr>\n",
       "      <th>0</th>\n",
       "      <td>ABBA</td>\n",
       "      <td>Ahe's My Kind Of Girl</td>\n",
       "      <td>/a/abba/ahes+my+kind+of+girl_20598417.html</td>\n",
       "      <td>Look at her face, it's a wonderful face  \\r\\nA...</td>\n",
       "      <td>NaN</td>\n",
       "    </tr>\n",
       "    <tr>\n",
       "      <th>1</th>\n",
       "      <td>ABBA</td>\n",
       "      <td>Andante, Andante</td>\n",
       "      <td>/a/abba/andante+andante_20002708.html</td>\n",
       "      <td>Take it easy with me, please  \\r\\nTouch me gen...</td>\n",
       "      <td>https://open.spotify.com/track/1JnHZagDFvrT2lx...</td>\n",
       "    </tr>\n",
       "    <tr>\n",
       "      <th>2</th>\n",
       "      <td>ABBA</td>\n",
       "      <td>As Good As New</td>\n",
       "      <td>/a/abba/as+good+as+new_20003033.html</td>\n",
       "      <td>I'll never know why I had to go  \\r\\nWhy I had...</td>\n",
       "      <td>https://open.spotify.com/track/71or1G6CbfIttRD...</td>\n",
       "    </tr>\n",
       "    <tr>\n",
       "      <th>3</th>\n",
       "      <td>ABBA</td>\n",
       "      <td>Bang</td>\n",
       "      <td>/a/abba/bang_20598415.html</td>\n",
       "      <td>Making somebody happy is a question of give an...</td>\n",
       "      <td>https://open.spotify.com/track/75UdklaJHB2iYhQ...</td>\n",
       "    </tr>\n",
       "    <tr>\n",
       "      <th>4</th>\n",
       "      <td>ABBA</td>\n",
       "      <td>Bang-A-Boomerang</td>\n",
       "      <td>/a/abba/bang+a+boomerang_20002668.html</td>\n",
       "      <td>Making somebody happy is a question of give an...</td>\n",
       "      <td>https://open.spotify.com/track/5jfZEsdQMAaoeDL...</td>\n",
       "    </tr>\n",
       "  </tbody>\n",
       "</table>\n",
       "</div>"
      ],
      "text/plain": [
       "  artist                   song                                        link  \\\n",
       "0   ABBA  Ahe's My Kind Of Girl  /a/abba/ahes+my+kind+of+girl_20598417.html   \n",
       "1   ABBA       Andante, Andante       /a/abba/andante+andante_20002708.html   \n",
       "2   ABBA         As Good As New        /a/abba/as+good+as+new_20003033.html   \n",
       "3   ABBA                   Bang                  /a/abba/bang_20598415.html   \n",
       "4   ABBA       Bang-A-Boomerang      /a/abba/bang+a+boomerang_20002668.html   \n",
       "\n",
       "                                                text  \\\n",
       "0  Look at her face, it's a wonderful face  \\r\\nA...   \n",
       "1  Take it easy with me, please  \\r\\nTouch me gen...   \n",
       "2  I'll never know why I had to go  \\r\\nWhy I had...   \n",
       "3  Making somebody happy is a question of give an...   \n",
       "4  Making somebody happy is a question of give an...   \n",
       "\n",
       "                                        spotify_link  \n",
       "0                                                NaN  \n",
       "1  https://open.spotify.com/track/1JnHZagDFvrT2lx...  \n",
       "2  https://open.spotify.com/track/71or1G6CbfIttRD...  \n",
       "3  https://open.spotify.com/track/75UdklaJHB2iYhQ...  \n",
       "4  https://open.spotify.com/track/5jfZEsdQMAaoeDL...  "
      ]
     },
     "execution_count": 3,
     "metadata": {},
     "output_type": "execute_result"
    }
   ],
   "source": [
    "df . head(5)"
   ]
  },
  {
   "cell_type": "code",
   "execution_count": 4,
   "id": "1a67acf5-b1c4-4767-a1f0-6f15f8de5fb6",
   "metadata": {},
   "outputs": [
    {
     "data": {
      "text/html": [
       "<div>\n",
       "<style scoped>\n",
       "    .dataframe tbody tr th:only-of-type {\n",
       "        vertical-align: middle;\n",
       "    }\n",
       "\n",
       "    .dataframe tbody tr th {\n",
       "        vertical-align: top;\n",
       "    }\n",
       "\n",
       "    .dataframe thead th {\n",
       "        text-align: right;\n",
       "    }\n",
       "</style>\n",
       "<table border=\"1\" class=\"dataframe\">\n",
       "  <thead>\n",
       "    <tr style=\"text-align: right;\">\n",
       "      <th></th>\n",
       "      <th>artist</th>\n",
       "      <th>song</th>\n",
       "      <th>link</th>\n",
       "      <th>text</th>\n",
       "      <th>spotify_link</th>\n",
       "    </tr>\n",
       "  </thead>\n",
       "  <tbody>\n",
       "    <tr>\n",
       "      <th>9964</th>\n",
       "      <td>Judy Garland</td>\n",
       "      <td>Good Morning!</td>\n",
       "      <td>/j/judy+garland/good+morning_20492007.html</td>\n",
       "      <td>Good mornin', good mornin'!  \\r\\nWe've danced ...</td>\n",
       "      <td>https://open.spotify.com/track/2MYMYKnFUx4LVh4...</td>\n",
       "    </tr>\n",
       "    <tr>\n",
       "      <th>9965</th>\n",
       "      <td>Judy Garland</td>\n",
       "      <td>Happiness Is A Thing Called Joe</td>\n",
       "      <td>/j/judy+garland/happiness+is+a+thing+called+jo...</td>\n",
       "      <td>It seems like happiness is just a thing called...</td>\n",
       "      <td>https://open.spotify.com/track/4yMcUGu0vEQUm0w...</td>\n",
       "    </tr>\n",
       "    <tr>\n",
       "      <th>9966</th>\n",
       "      <td>Judy Garland</td>\n",
       "      <td>Happy New Year</td>\n",
       "      <td>/j/judy+garland/happy+new+year_20831392.html</td>\n",
       "      <td>The snow makes teardrops on my window  \\r\\nThe...</td>\n",
       "      <td>https://open.spotify.com/track/2vKaEsrzVCBfTKG...</td>\n",
       "    </tr>\n",
       "    <tr>\n",
       "      <th>9967</th>\n",
       "      <td>Judy Garland</td>\n",
       "      <td>Have Yourself A Merry Little Christmas</td>\n",
       "      <td>/j/judy+garland/have+yourself+a+merry+little+c...</td>\n",
       "      <td>Have yourself a merry little Christmas  \\r\\nLe...</td>\n",
       "      <td>https://open.spotify.com/track/030mot3ZKR3oskf...</td>\n",
       "    </tr>\n",
       "    <tr>\n",
       "      <th>9968</th>\n",
       "      <td>Judy Garland</td>\n",
       "      <td>I Am Loved</td>\n",
       "      <td>/j/judy+garland/i+am+loved_21021270.html</td>\n",
       "      <td>I am loved, I am loved by the one I love in ev...</td>\n",
       "      <td>https://open.spotify.com/track/3eullHYTXBY1VK9...</td>\n",
       "    </tr>\n",
       "  </tbody>\n",
       "</table>\n",
       "</div>"
      ],
      "text/plain": [
       "            artist                                    song  \\\n",
       "9964  Judy Garland                           Good Morning!   \n",
       "9965  Judy Garland         Happiness Is A Thing Called Joe   \n",
       "9966  Judy Garland                          Happy New Year   \n",
       "9967  Judy Garland  Have Yourself A Merry Little Christmas   \n",
       "9968  Judy Garland                              I Am Loved   \n",
       "\n",
       "                                                   link  \\\n",
       "9964         /j/judy+garland/good+morning_20492007.html   \n",
       "9965  /j/judy+garland/happiness+is+a+thing+called+jo...   \n",
       "9966       /j/judy+garland/happy+new+year_20831392.html   \n",
       "9967  /j/judy+garland/have+yourself+a+merry+little+c...   \n",
       "9968           /j/judy+garland/i+am+loved_21021270.html   \n",
       "\n",
       "                                                   text  \\\n",
       "9964  Good mornin', good mornin'!  \\r\\nWe've danced ...   \n",
       "9965  It seems like happiness is just a thing called...   \n",
       "9966  The snow makes teardrops on my window  \\r\\nThe...   \n",
       "9967  Have yourself a merry little Christmas  \\r\\nLe...   \n",
       "9968  I am loved, I am loved by the one I love in ev...   \n",
       "\n",
       "                                           spotify_link  \n",
       "9964  https://open.spotify.com/track/2MYMYKnFUx4LVh4...  \n",
       "9965  https://open.spotify.com/track/4yMcUGu0vEQUm0w...  \n",
       "9966  https://open.spotify.com/track/2vKaEsrzVCBfTKG...  \n",
       "9967  https://open.spotify.com/track/030mot3ZKR3oskf...  \n",
       "9968  https://open.spotify.com/track/3eullHYTXBY1VK9...  "
      ]
     },
     "execution_count": 4,
     "metadata": {},
     "output_type": "execute_result"
    }
   ],
   "source": [
    "df . tail(5)"
   ]
  },
  {
   "cell_type": "code",
   "execution_count": 5,
   "id": "3f5fb3b0-c408-40cd-9251-b3b52574b89c",
   "metadata": {},
   "outputs": [
    {
     "data": {
      "text/plain": [
       "(9969, 5)"
      ]
     },
     "execution_count": 5,
     "metadata": {},
     "output_type": "execute_result"
    }
   ],
   "source": [
    "df . shape"
   ]
  },
  {
   "cell_type": "code",
   "execution_count": 6,
   "id": "80f94118-23eb-452d-a80d-99299e160c96",
   "metadata": {},
   "outputs": [
    {
     "data": {
      "text/plain": [
       "artist             0\n",
       "song               0\n",
       "link               0\n",
       "text               0\n",
       "spotify_link    1607\n",
       "dtype: int64"
      ]
     },
     "execution_count": 6,
     "metadata": {},
     "output_type": "execute_result"
    }
   ],
   "source": [
    "df .isnull().sum()"
   ]
  },
  {
   "cell_type": "code",
   "execution_count": 7,
   "id": "076b70aa-3772-48a4-a0f0-169c24bdb4fb",
   "metadata": {},
   "outputs": [],
   "source": [
    "\n",
    "\n",
    "df=df . sample(5000).drop('link', axis=1).reset_index(drop=True)"
   ]
  },
  {
   "cell_type": "code",
   "execution_count": 8,
   "id": "36a17b88-bc88-482b-98da-8b362445f5e9",
   "metadata": {},
   "outputs": [
    {
     "data": {
      "text/html": [
       "<div>\n",
       "<style scoped>\n",
       "    .dataframe tbody tr th:only-of-type {\n",
       "        vertical-align: middle;\n",
       "    }\n",
       "\n",
       "    .dataframe tbody tr th {\n",
       "        vertical-align: top;\n",
       "    }\n",
       "\n",
       "    .dataframe thead th {\n",
       "        text-align: right;\n",
       "    }\n",
       "</style>\n",
       "<table border=\"1\" class=\"dataframe\">\n",
       "  <thead>\n",
       "    <tr style=\"text-align: right;\">\n",
       "      <th></th>\n",
       "      <th>artist</th>\n",
       "      <th>song</th>\n",
       "      <th>text</th>\n",
       "      <th>spotify_link</th>\n",
       "    </tr>\n",
       "  </thead>\n",
       "  <tbody>\n",
       "    <tr>\n",
       "      <th>0</th>\n",
       "      <td>Fiona Apple</td>\n",
       "      <td>Periphery</td>\n",
       "      <td>Oh, the periphery  \\r\\nThey throw good parties...</td>\n",
       "      <td>https://open.spotify.com/track/2cf3Yj51sQZXmK2...</td>\n",
       "    </tr>\n",
       "    <tr>\n",
       "      <th>1</th>\n",
       "      <td>Conway Twitty</td>\n",
       "      <td>Burn Georgia Burn</td>\n",
       "      <td>From a kiss to a small spark, in a heartbeat a...</td>\n",
       "      <td>NaN</td>\n",
       "    </tr>\n",
       "    <tr>\n",
       "      <th>2</th>\n",
       "      <td>Flo-Rida</td>\n",
       "      <td>Respirator</td>\n",
       "      <td>I need all my money  \\r\\nI want all my cash  \\...</td>\n",
       "      <td>https://open.spotify.com/track/24fi75evhQ147Sn...</td>\n",
       "    </tr>\n",
       "    <tr>\n",
       "      <th>3</th>\n",
       "      <td>Billie Holiday</td>\n",
       "      <td>Do Your Duty</td>\n",
       "      <td>Wesley 'Sox' Wilson  \\r\\nIf I call three times...</td>\n",
       "      <td>https://open.spotify.com/track/594VViGBPR7H4S7...</td>\n",
       "    </tr>\n",
       "    <tr>\n",
       "      <th>4</th>\n",
       "      <td>The Jam</td>\n",
       "      <td>All Mod Cons</td>\n",
       "      <td>Seen you before, I know your sort  \\r\\nYou thi...</td>\n",
       "      <td>https://open.spotify.com/track/6CQnMebNgdhuAkI...</td>\n",
       "    </tr>\n",
       "    <tr>\n",
       "      <th>5</th>\n",
       "      <td>George Strait</td>\n",
       "      <td>Honky Tonk Crazy</td>\n",
       "      <td>There's a hundred dollar bill on the table  \\r...</td>\n",
       "      <td>https://open.spotify.com/track/74OgdOY26et3m2m...</td>\n",
       "    </tr>\n",
       "    <tr>\n",
       "      <th>6</th>\n",
       "      <td>Cliff Richard</td>\n",
       "      <td>Girl, You'll Be A Woman Soon</td>\n",
       "      <td>I love you so much, can't count all the ways  ...</td>\n",
       "      <td>https://open.spotify.com/track/1onmncWwYZ6x9IY...</td>\n",
       "    </tr>\n",
       "    <tr>\n",
       "      <th>7</th>\n",
       "      <td>John Prine</td>\n",
       "      <td>Lulu Walls</td>\n",
       "      <td>One evening getting dark  \\r\\nWe first met at ...</td>\n",
       "      <td>https://open.spotify.com/track/3wsm797LU0SiYUC...</td>\n",
       "    </tr>\n",
       "    <tr>\n",
       "      <th>8</th>\n",
       "      <td>John Denver</td>\n",
       "      <td>Home Grown Tomatoes</td>\n",
       "      <td>There ain't nothin' in the world that I like b...</td>\n",
       "      <td>NaN</td>\n",
       "    </tr>\n",
       "    <tr>\n",
       "      <th>9</th>\n",
       "      <td>Diana Ross</td>\n",
       "      <td>Doobedood'ndoobe, Doobedood'ndoobe, Doobedood'...</td>\n",
       "      <td>Go with what I've sent you...Someone to love  ...</td>\n",
       "      <td>https://open.spotify.com/track/00OkmhEAj0j1Snk...</td>\n",
       "    </tr>\n",
       "  </tbody>\n",
       "</table>\n",
       "</div>"
      ],
      "text/plain": [
       "           artist                                               song  \\\n",
       "0     Fiona Apple                                          Periphery   \n",
       "1   Conway Twitty                                  Burn Georgia Burn   \n",
       "2        Flo-Rida                                         Respirator   \n",
       "3  Billie Holiday                                       Do Your Duty   \n",
       "4         The Jam                                       All Mod Cons   \n",
       "5   George Strait                                   Honky Tonk Crazy   \n",
       "6   Cliff Richard                       Girl, You'll Be A Woman Soon   \n",
       "7      John Prine                                         Lulu Walls   \n",
       "8     John Denver                                Home Grown Tomatoes   \n",
       "9      Diana Ross  Doobedood'ndoobe, Doobedood'ndoobe, Doobedood'...   \n",
       "\n",
       "                                                text  \\\n",
       "0  Oh, the periphery  \\r\\nThey throw good parties...   \n",
       "1  From a kiss to a small spark, in a heartbeat a...   \n",
       "2  I need all my money  \\r\\nI want all my cash  \\...   \n",
       "3  Wesley 'Sox' Wilson  \\r\\nIf I call three times...   \n",
       "4  Seen you before, I know your sort  \\r\\nYou thi...   \n",
       "5  There's a hundred dollar bill on the table  \\r...   \n",
       "6  I love you so much, can't count all the ways  ...   \n",
       "7  One evening getting dark  \\r\\nWe first met at ...   \n",
       "8  There ain't nothin' in the world that I like b...   \n",
       "9  Go with what I've sent you...Someone to love  ...   \n",
       "\n",
       "                                        spotify_link  \n",
       "0  https://open.spotify.com/track/2cf3Yj51sQZXmK2...  \n",
       "1                                                NaN  \n",
       "2  https://open.spotify.com/track/24fi75evhQ147Sn...  \n",
       "3  https://open.spotify.com/track/594VViGBPR7H4S7...  \n",
       "4  https://open.spotify.com/track/6CQnMebNgdhuAkI...  \n",
       "5  https://open.spotify.com/track/74OgdOY26et3m2m...  \n",
       "6  https://open.spotify.com/track/1onmncWwYZ6x9IY...  \n",
       "7  https://open.spotify.com/track/3wsm797LU0SiYUC...  \n",
       "8                                                NaN  \n",
       "9  https://open.spotify.com/track/00OkmhEAj0j1Snk...  "
      ]
     },
     "execution_count": 8,
     "metadata": {},
     "output_type": "execute_result"
    }
   ],
   "source": [
    "df.head(10)"
   ]
  },
  {
   "cell_type": "code",
   "execution_count": 9,
   "id": "3bb2b0c3-56db-4722-9e6a-f0a6fca8ff86",
   "metadata": {},
   "outputs": [
    {
     "data": {
      "text/plain": [
       "\"Oh, the periphery  \\r\\nThey throw good parties there  \\r\\nThose peripheral idiots  \\r\\nAlways have a bite to bear  \\r\\nBear it if you can  \\r\\nIf you really want to  \\r\\n  \\r\\nGo to the periphery  \\r\\nHave them celebrate your name  \\r\\nHave them forge you a pedigree and then you'll be  \\r\\nLeft to run the races lame  \\r\\nRun if you want  \\r\\nIf you think it's worth it  \\r\\nBut not with me  \\r\\n  \\r\\n'Cause I don't appreciate  \\r\\nPeople who  \\r\\nDon't appreciate  \\r\\nAll that loving must've been lacking something  \\r\\nIf I got bored trying to figure you out  \\r\\nYou let me down  \\r\\nI don't even like you anymore at all  \\r\\n  \\r\\nOh, the periphery  \\r\\nI lost another one there  \\r\\nHe found a prettier girl than me  \\r\\nWith a more even-tempered air  \\r\\nAnd if he wants her, he should get her  \\r\\n'Cause I think he thinks she's worth it  \\r\\nAnd maybe they'll move from the periphery  \\r\\nBy themselves, or on a plot of land  \\r\\nAnd I'll care in a different capacity, I'll just be  \\r\\nHoping he makes a good family man  \\r\\nAnd if he finds himself yearning  \\r\\nFor his throne on the silly side  \\r\\nNothing wrong as long as he's learning  \\r\\nBesides, you can take it up with his brethren  \\r\\nOr with his bride, just not with me  \\r\\n  \\r\\n'Cause I don't appreciate  \\r\\nPeople who  \\r\\nDon't appreciate  \\r\\nAll that loving must've been lacking something  \\r\\nIf I got bored trying to figure you out  \\r\\nYou let me down  \\r\\nI don't even like you anymore at all  \\r\\n  \\r\\nAll that loving must've been lacking something  \\r\\nIf I got bored trying to figure you out  \\r\\nYou let me down  \\r\\nI don't even like you anymore at all  \\r\\n  \\r\\nOh, the periphery  \\r\\nOh, the periphery  \\r\\nOh, the periphery  \\r\\nOh, the periphery  \\r\\nStay away  \\r\\nStay away  \\r\\nAway, away  \\r\\nStay away, away\\r\\n\\r\\n\""
      ]
     },
     "execution_count": 9,
     "metadata": {},
     "output_type": "execute_result"
    }
   ],
   "source": [
    "df['text'][0]"
   ]
  },
  {
   "cell_type": "code",
   "execution_count": 10,
   "id": "96bb5f9e-88bd-4c21-9948-dfd0acec0417",
   "metadata": {},
   "outputs": [],
   "source": [
    "df=df.sample(5000)"
   ]
  },
  {
   "cell_type": "code",
   "execution_count": 11,
   "id": "3469d161-35a3-4104-b83c-4b151891d2f0",
   "metadata": {},
   "outputs": [
    {
     "data": {
      "text/plain": [
       "(5000, 4)"
      ]
     },
     "execution_count": 11,
     "metadata": {},
     "output_type": "execute_result"
    }
   ],
   "source": [
    "df.shape"
   ]
  },
  {
   "cell_type": "markdown",
   "id": "b0814d11-eeea-4ca4-9351-58946c40031c",
   "metadata": {},
   "source": [
    "text cleaning/ Text preprocessing"
   ]
  },
  {
   "cell_type": "code",
   "execution_count": 12,
   "id": "61105f74-96ef-4d65-8538-ae8b0ffb6a0f",
   "metadata": {},
   "outputs": [],
   "source": [
    "df['text'] = df[\"text\"].str.lower().replace(r'^\\w\\s', ' ').replace(r'\\n', ' ', regex = True)"
   ]
  },
  {
   "cell_type": "code",
   "execution_count": 13,
   "id": "3db9a2f8-44a2-4e0b-980d-d07b0e849115",
   "metadata": {},
   "outputs": [
    {
     "data": {
      "text/html": [
       "<div>\n",
       "<style scoped>\n",
       "    .dataframe tbody tr th:only-of-type {\n",
       "        vertical-align: middle;\n",
       "    }\n",
       "\n",
       "    .dataframe tbody tr th {\n",
       "        vertical-align: top;\n",
       "    }\n",
       "\n",
       "    .dataframe thead th {\n",
       "        text-align: right;\n",
       "    }\n",
       "</style>\n",
       "<table border=\"1\" class=\"dataframe\">\n",
       "  <thead>\n",
       "    <tr style=\"text-align: right;\">\n",
       "      <th></th>\n",
       "      <th>artist</th>\n",
       "      <th>song</th>\n",
       "      <th>text</th>\n",
       "      <th>spotify_link</th>\n",
       "    </tr>\n",
       "  </thead>\n",
       "  <tbody>\n",
       "    <tr>\n",
       "      <th>504</th>\n",
       "      <td>Blur</td>\n",
       "      <td>Moroccan Peoples Revolutionary Bowls Club</td>\n",
       "      <td>the trees are spinning oxygen  \\r they're the ...</td>\n",
       "      <td>https://open.spotify.com/track/73seASY9hdXLaEM...</td>\n",
       "    </tr>\n",
       "    <tr>\n",
       "      <th>53</th>\n",
       "      <td>Avril Lavigne</td>\n",
       "      <td>You Never Satisfy Me</td>\n",
       "      <td>excuse me sir, do i have your attention,  \\r t...</td>\n",
       "      <td>NaN</td>\n",
       "    </tr>\n",
       "    <tr>\n",
       "      <th>2408</th>\n",
       "      <td>Conway Twitty</td>\n",
       "      <td>But I Dropped It</td>\n",
       "      <td>i was a man with a world in his hand but i dro...</td>\n",
       "      <td>NaN</td>\n",
       "    </tr>\n",
       "    <tr>\n",
       "      <th>3964</th>\n",
       "      <td>Grateful Dead</td>\n",
       "      <td>She Belongs To Me</td>\n",
       "      <td>she's got everything she needs, she's an artis...</td>\n",
       "      <td>https://open.spotify.com/track/4OAGeg6w7eIESTJ...</td>\n",
       "    </tr>\n",
       "    <tr>\n",
       "      <th>154</th>\n",
       "      <td>Hank Snow</td>\n",
       "      <td>Just Across The Bridge Of Gold</td>\n",
       "      <td>as the twilight shadows deepen  \\r where the w...</td>\n",
       "      <td>NaN</td>\n",
       "    </tr>\n",
       "    <tr>\n",
       "      <th>...</th>\n",
       "      <td>...</td>\n",
       "      <td>...</td>\n",
       "      <td>...</td>\n",
       "      <td>...</td>\n",
       "    </tr>\n",
       "    <tr>\n",
       "      <th>3837</th>\n",
       "      <td>America</td>\n",
       "      <td>Christmas In California</td>\n",
       "      <td>oh, look out kids it's that time of year  \\r w...</td>\n",
       "      <td>https://open.spotify.com/track/3VSmimohDXo3rDv...</td>\n",
       "    </tr>\n",
       "    <tr>\n",
       "      <th>1735</th>\n",
       "      <td>Garth Brooks</td>\n",
       "      <td>Victim Of The Game</td>\n",
       "      <td>well it took a little time  \\r but i guess you...</td>\n",
       "      <td>NaN</td>\n",
       "    </tr>\n",
       "    <tr>\n",
       "      <th>4626</th>\n",
       "      <td>Devo</td>\n",
       "      <td>Modern Life</td>\n",
       "      <td>it's a modern life  \\r but it's not what you'r...</td>\n",
       "      <td>https://open.spotify.com/track/65aWplCpR0OKwpG...</td>\n",
       "    </tr>\n",
       "    <tr>\n",
       "      <th>3019</th>\n",
       "      <td>Adam Sandler</td>\n",
       "      <td>The Psychotic Legend Of Uncle Donnie</td>\n",
       "      <td>holy shit, this boat is sweet uncle donnie.  \\...</td>\n",
       "      <td>NaN</td>\n",
       "    </tr>\n",
       "    <tr>\n",
       "      <th>3814</th>\n",
       "      <td>James Taylor</td>\n",
       "      <td>Mean Old Man</td>\n",
       "      <td>on my own, how could i have known?  \\r imagine...</td>\n",
       "      <td>https://open.spotify.com/track/0WqZ6MR1Xmz3MCa...</td>\n",
       "    </tr>\n",
       "  </tbody>\n",
       "</table>\n",
       "<p>5000 rows × 4 columns</p>\n",
       "</div>"
      ],
      "text/plain": [
       "             artist                                       song  \\\n",
       "504            Blur  Moroccan Peoples Revolutionary Bowls Club   \n",
       "53    Avril Lavigne                       You Never Satisfy Me   \n",
       "2408  Conway Twitty                           But I Dropped It   \n",
       "3964  Grateful Dead                          She Belongs To Me   \n",
       "154       Hank Snow             Just Across The Bridge Of Gold   \n",
       "...             ...                                        ...   \n",
       "3837        America                    Christmas In California   \n",
       "1735   Garth Brooks                         Victim Of The Game   \n",
       "4626           Devo                                Modern Life   \n",
       "3019   Adam Sandler       The Psychotic Legend Of Uncle Donnie   \n",
       "3814   James Taylor                               Mean Old Man   \n",
       "\n",
       "                                                   text  \\\n",
       "504   the trees are spinning oxygen  \\r they're the ...   \n",
       "53    excuse me sir, do i have your attention,  \\r t...   \n",
       "2408  i was a man with a world in his hand but i dro...   \n",
       "3964  she's got everything she needs, she's an artis...   \n",
       "154   as the twilight shadows deepen  \\r where the w...   \n",
       "...                                                 ...   \n",
       "3837  oh, look out kids it's that time of year  \\r w...   \n",
       "1735  well it took a little time  \\r but i guess you...   \n",
       "4626  it's a modern life  \\r but it's not what you'r...   \n",
       "3019  holy shit, this boat is sweet uncle donnie.  \\...   \n",
       "3814  on my own, how could i have known?  \\r imagine...   \n",
       "\n",
       "                                           spotify_link  \n",
       "504   https://open.spotify.com/track/73seASY9hdXLaEM...  \n",
       "53                                                  NaN  \n",
       "2408                                                NaN  \n",
       "3964  https://open.spotify.com/track/4OAGeg6w7eIESTJ...  \n",
       "154                                                 NaN  \n",
       "...                                                 ...  \n",
       "3837  https://open.spotify.com/track/3VSmimohDXo3rDv...  \n",
       "1735                                                NaN  \n",
       "4626  https://open.spotify.com/track/65aWplCpR0OKwpG...  \n",
       "3019                                                NaN  \n",
       "3814  https://open.spotify.com/track/0WqZ6MR1Xmz3MCa...  \n",
       "\n",
       "[5000 rows x 4 columns]"
      ]
     },
     "execution_count": 13,
     "metadata": {},
     "output_type": "execute_result"
    }
   ],
   "source": [
    "df"
   ]
  },
  {
   "cell_type": "code",
   "execution_count": 14,
   "id": "372fdd13-90ee-46c5-adbd-a0f1dc6347e7",
   "metadata": {},
   "outputs": [
    {
     "data": {
      "text/html": [
       "<div>\n",
       "<style scoped>\n",
       "    .dataframe tbody tr th:only-of-type {\n",
       "        vertical-align: middle;\n",
       "    }\n",
       "\n",
       "    .dataframe tbody tr th {\n",
       "        vertical-align: top;\n",
       "    }\n",
       "\n",
       "    .dataframe thead th {\n",
       "        text-align: right;\n",
       "    }\n",
       "</style>\n",
       "<table border=\"1\" class=\"dataframe\">\n",
       "  <thead>\n",
       "    <tr style=\"text-align: right;\">\n",
       "      <th></th>\n",
       "      <th>artist</th>\n",
       "      <th>song</th>\n",
       "      <th>text</th>\n",
       "      <th>spotify_link</th>\n",
       "    </tr>\n",
       "  </thead>\n",
       "  <tbody>\n",
       "    <tr>\n",
       "      <th>3837</th>\n",
       "      <td>America</td>\n",
       "      <td>Christmas In California</td>\n",
       "      <td>oh, look out kids it's that time of year  \\r w...</td>\n",
       "      <td>https://open.spotify.com/track/3VSmimohDXo3rDv...</td>\n",
       "    </tr>\n",
       "    <tr>\n",
       "      <th>1735</th>\n",
       "      <td>Garth Brooks</td>\n",
       "      <td>Victim Of The Game</td>\n",
       "      <td>well it took a little time  \\r but i guess you...</td>\n",
       "      <td>NaN</td>\n",
       "    </tr>\n",
       "    <tr>\n",
       "      <th>4626</th>\n",
       "      <td>Devo</td>\n",
       "      <td>Modern Life</td>\n",
       "      <td>it's a modern life  \\r but it's not what you'r...</td>\n",
       "      <td>https://open.spotify.com/track/65aWplCpR0OKwpG...</td>\n",
       "    </tr>\n",
       "    <tr>\n",
       "      <th>3019</th>\n",
       "      <td>Adam Sandler</td>\n",
       "      <td>The Psychotic Legend Of Uncle Donnie</td>\n",
       "      <td>holy shit, this boat is sweet uncle donnie.  \\...</td>\n",
       "      <td>NaN</td>\n",
       "    </tr>\n",
       "    <tr>\n",
       "      <th>3814</th>\n",
       "      <td>James Taylor</td>\n",
       "      <td>Mean Old Man</td>\n",
       "      <td>on my own, how could i have known?  \\r imagine...</td>\n",
       "      <td>https://open.spotify.com/track/0WqZ6MR1Xmz3MCa...</td>\n",
       "    </tr>\n",
       "  </tbody>\n",
       "</table>\n",
       "</div>"
      ],
      "text/plain": [
       "            artist                                  song  \\\n",
       "3837       America               Christmas In California   \n",
       "1735  Garth Brooks                    Victim Of The Game   \n",
       "4626          Devo                           Modern Life   \n",
       "3019  Adam Sandler  The Psychotic Legend Of Uncle Donnie   \n",
       "3814  James Taylor                          Mean Old Man   \n",
       "\n",
       "                                                   text  \\\n",
       "3837  oh, look out kids it's that time of year  \\r w...   \n",
       "1735  well it took a little time  \\r but i guess you...   \n",
       "4626  it's a modern life  \\r but it's not what you'r...   \n",
       "3019  holy shit, this boat is sweet uncle donnie.  \\...   \n",
       "3814  on my own, how could i have known?  \\r imagine...   \n",
       "\n",
       "                                           spotify_link  \n",
       "3837  https://open.spotify.com/track/3VSmimohDXo3rDv...  \n",
       "1735                                                NaN  \n",
       "4626  https://open.spotify.com/track/65aWplCpR0OKwpG...  \n",
       "3019                                                NaN  \n",
       "3814  https://open.spotify.com/track/0WqZ6MR1Xmz3MCa...  "
      ]
     },
     "execution_count": 14,
     "metadata": {},
     "output_type": "execute_result"
    }
   ],
   "source": [
    "df.tail(5)"
   ]
  },
  {
   "cell_type": "code",
   "execution_count": 15,
   "id": "c02a3110-4f3c-44c8-a0c4-faac4aad8540",
   "metadata": {},
   "outputs": [
    {
     "name": "stdout",
     "output_type": "stream",
     "text": [
      "Requirement already satisfied: nltk in c:\\users\\krushna sonawane\\appdata\\local\\programs\\python\\python38\\lib\\site-packages (3.9.1)\n",
      "Requirement already satisfied: click in c:\\users\\krushna sonawane\\appdata\\local\\programs\\python\\python38\\lib\\site-packages (from nltk) (8.1.8)\n",
      "Requirement already satisfied: joblib in c:\\users\\krushna sonawane\\appdata\\local\\programs\\python\\python38\\lib\\site-packages (from nltk) (1.4.2)\n",
      "Requirement already satisfied: regex>=2021.8.3 in c:\\users\\krushna sonawane\\appdata\\local\\programs\\python\\python38\\lib\\site-packages (from nltk) (2024.11.6)\n",
      "Requirement already satisfied: tqdm in c:\\users\\krushna sonawane\\appdata\\local\\programs\\python\\python38\\lib\\site-packages (from nltk) (4.67.1)\n",
      "Requirement already satisfied: colorama in c:\\users\\krushna sonawane\\appdata\\local\\programs\\python\\python38\\lib\\site-packages (from click->nltk) (0.4.6)\n"
     ]
    }
   ],
   "source": [
    "!pip install nltk\n"
   ]
  },
  {
   "cell_type": "code",
   "execution_count": 16,
   "id": "dfeddb02-0635-47f1-bd6e-e65d595060cd",
   "metadata": {},
   "outputs": [
    {
     "name": "stdout",
     "output_type": "stream",
     "text": [
      "NLTK is successfully installed!\n"
     ]
    }
   ],
   "source": [
    "import nltk\n",
    "print(\"NLTK is successfully installed!\")\n"
   ]
  },
  {
   "cell_type": "code",
   "execution_count": 17,
   "id": "0013b602-d5d3-49a6-8c12-000c4162433d",
   "metadata": {},
   "outputs": [
    {
     "name": "stdout",
     "output_type": "stream",
     "text": [
      "Requirement already satisfied: pip in c:\\users\\krushna sonawane\\appdata\\local\\programs\\python\\python38\\lib\\site-packages (25.0)\n"
     ]
    }
   ],
   "source": [
    "!python -m pip install --upgrade pip\n"
   ]
  },
  {
   "cell_type": "code",
   "execution_count": 18,
   "id": "967e167a-60b6-4eab-a13f-16f66de65d31",
   "metadata": {},
   "outputs": [
    {
     "name": "stdout",
     "output_type": "stream",
     "text": [
      "Name: nltk\n",
      "Version: 3.9.1\n",
      "Summary: Natural Language Toolkit\n",
      "Home-page: https://www.nltk.org/\n",
      "Author: NLTK Team\n",
      "Author-email: nltk.team@gmail.com\n",
      "License: Apache License, Version 2.0\n",
      "Location: c:\\users\\krushna sonawane\\appdata\\local\\programs\\python\\python38\\lib\\site-packages\n",
      "Requires: click, joblib, regex, tqdm\n",
      "Required-by: \n"
     ]
    }
   ],
   "source": [
    "!pip show nltk\n"
   ]
  },
  {
   "cell_type": "code",
   "execution_count": 19,
   "id": "c1e75d59-4730-41a5-a96c-ec6d6f4bcfa2",
   "metadata": {},
   "outputs": [],
   "source": [
    "import nltk\n",
    "from nltk.stem.porter import PorterStemmer\n"
   ]
  },
  {
   "cell_type": "code",
   "execution_count": 20,
   "id": "de6fe3f9-a862-43f3-b38d-7330ca880d74",
   "metadata": {},
   "outputs": [],
   "source": [
    "stemmer = PorterStemmer()"
   ]
  },
  {
   "cell_type": "code",
   "execution_count": 21,
   "id": "5f45e5c1-dab9-4207-b5df-21b7de629ba1",
   "metadata": {},
   "outputs": [],
   "source": [
    "def token(txt):\n",
    "    token = nltk.word_tokenize(txt)\n",
    "    [Stemmer .steam(w) for w in token]\n",
    "    return \" \" .join(a)"
   ]
  },
  {
   "cell_type": "code",
   "execution_count": 22,
   "id": "2658c370-0e90-4707-bc00-9c0a9c1ad140",
   "metadata": {},
   "outputs": [
    {
     "name": "stdout",
     "output_type": "stream",
     "text": [
      "['You', 'are', 'beautiful', ',', 'beauty']\n"
     ]
    }
   ],
   "source": [
    "from nltk.tokenize import word_tokenize\n",
    "print(word_tokenize(\"You are beautiful, beauty\"))\n"
   ]
  },
  {
   "cell_type": "code",
   "execution_count": 23,
   "id": "531ed7dd-6676-4989-bd52-95901b8f94bf",
   "metadata": {},
   "outputs": [
    {
     "name": "stderr",
     "output_type": "stream",
     "text": [
      "[nltk_data] Downloading package punkt to C:\\Users\\krushna\n",
      "[nltk_data]     sonawane/nltk_data...\n",
      "[nltk_data]   Package punkt is already up-to-date!\n"
     ]
    },
    {
     "data": {
      "text/plain": [
       "True"
      ]
     },
     "execution_count": 23,
     "metadata": {},
     "output_type": "execute_result"
    }
   ],
   "source": [
    "import nltk\n",
    "nltk.download('punkt')\n"
   ]
  },
  {
   "cell_type": "code",
   "execution_count": 24,
   "id": "e80b309d-cc61-4b30-bc5f-fc11d699ca18",
   "metadata": {},
   "outputs": [
    {
     "name": "stdout",
     "output_type": "stream",
     "text": [
      "['C:\\\\Users\\\\krushna sonawane/nltk_data', 'c:\\\\Users\\\\krushna sonawane\\\\AppData\\\\Local\\\\Programs\\\\Python\\\\Python312\\\\nltk_data', 'c:\\\\Users\\\\krushna sonawane\\\\AppData\\\\Local\\\\Programs\\\\Python\\\\Python312\\\\share\\\\nltk_data', 'c:\\\\Users\\\\krushna sonawane\\\\AppData\\\\Local\\\\Programs\\\\Python\\\\Python312\\\\lib\\\\nltk_data', 'C:\\\\Users\\\\krushna sonawane\\\\AppData\\\\Roaming\\\\nltk_data', 'C:\\\\nltk_data', 'D:\\\\nltk_data', 'E:\\\\nltk_data', 'C:\\\\Users\\\\krushna sonawane\\\\nltk_data\\\\tokenizers\\\\punkt']\n",
      "['You', 'are', 'beautiful', ',', 'beauty']\n"
     ]
    },
    {
     "name": "stderr",
     "output_type": "stream",
     "text": [
      "[nltk_data] Downloading package punkt to C:\\Users\\krushna\n",
      "[nltk_data]     sonawane/nltk_data...\n",
      "[nltk_data]   Package punkt is already up-to-date!\n"
     ]
    }
   ],
   "source": [
    "import nltk\n",
    "\n",
    "# Set custom nltk_data path\n",
    "nltk.data.path.append(r'C:\\Users\\krushna sonawane\\nltk_data\\tokenizers\\punkt')\n",
    "\n",
    "# Debug: Print available resources\n",
    "print(nltk.data.path)\n",
    "\n",
    "# Re-download punkt\n",
    "nltk.download('punkt')\n",
    "\n",
    "# Tokenization test\n",
    "from nltk.tokenize import word_tokenize\n",
    "print(word_tokenize(\"You are beautiful, beauty\"))\n"
   ]
  },
  {
   "cell_type": "code",
   "execution_count": 25,
   "id": "636b4923-25c8-4f7b-bd5e-c01595caf303",
   "metadata": {},
   "outputs": [
    {
     "name": "stderr",
     "output_type": "stream",
     "text": [
      "[nltk_data] Downloading package punkt_tab to C:\\Users\\krushna\n",
      "[nltk_data]     sonawane/nltk_data...\n",
      "[nltk_data]   Package punkt_tab is already up-to-date!\n"
     ]
    },
    {
     "data": {
      "text/plain": [
       "True"
      ]
     },
     "execution_count": 25,
     "metadata": {},
     "output_type": "execute_result"
    }
   ],
   "source": [
    "import nltk\n",
    "nltk.download('punkt_tab')"
   ]
  },
  {
   "cell_type": "code",
   "execution_count": 26,
   "id": "08ecf1dc-fa0e-4cb6-88ce-89fedf579fe7",
   "metadata": {},
   "outputs": [],
   "source": [
    "import nltk\n",
    "nltk.data.path.append(r'C:\\Users\\krushna sonawane\\nltk_data')\n"
   ]
  },
  {
   "cell_type": "code",
   "execution_count": 27,
   "id": "d05a59f1-571e-47dd-8abb-0d8f7776522d",
   "metadata": {},
   "outputs": [
    {
     "name": "stdout",
     "output_type": "stream",
     "text": [
      "['You', 'are', 'beautiful', ',', 'beauty']\n"
     ]
    }
   ],
   "source": [
    "from nltk.tokenize import word_tokenize\n",
    "print(word_tokenize(\"You are beautiful, beauty\"))\n"
   ]
  },
  {
   "cell_type": "code",
   "execution_count": 28,
   "id": "d042a192-3545-44c1-bd5e-05e4b1f34fcb",
   "metadata": {},
   "outputs": [
    {
     "name": "stdout",
     "output_type": "stream",
     "text": [
      "Requirement already satisfied: scikit-learn in c:\\users\\krushna sonawane\\appdata\\local\\programs\\python\\python312\\lib\\site-packages (1.6.1)\n",
      "Requirement already satisfied: numpy>=1.19.5 in c:\\users\\krushna sonawane\\appdata\\local\\programs\\python\\python312\\lib\\site-packages (from scikit-learn) (2.1.1)\n",
      "Requirement already satisfied: scipy>=1.6.0 in c:\\users\\krushna sonawane\\appdata\\local\\programs\\python\\python312\\lib\\site-packages (from scikit-learn) (1.15.1)\n",
      "Requirement already satisfied: joblib>=1.2.0 in c:\\users\\krushna sonawane\\appdata\\local\\programs\\python\\python312\\lib\\site-packages (from scikit-learn) (1.4.2)\n",
      "Requirement already satisfied: threadpoolctl>=3.1.0 in c:\\users\\krushna sonawane\\appdata\\local\\programs\\python\\python312\\lib\\site-packages (from scikit-learn) (3.5.0)\n",
      "Note: you may need to restart the kernel to use updated packages.\n"
     ]
    },
    {
     "name": "stderr",
     "output_type": "stream",
     "text": [
      "\n",
      "[notice] A new release of pip is available: 24.2 -> 25.0\n",
      "[notice] To update, run: c:\\Users\\krushna sonawane\\AppData\\Local\\Programs\\Python\\Python312\\python.exe -m pip install --upgrade pip\n"
     ]
    }
   ],
   "source": [
    "pip install scikit-learn\n"
   ]
  },
  {
   "cell_type": "code",
   "execution_count": 29,
   "id": "5c29c989-46fb-47c9-b7cb-59d48c68fec7",
   "metadata": {},
   "outputs": [
    {
     "name": "stdout",
     "output_type": "stream",
     "text": [
      "1.6.1\n"
     ]
    }
   ],
   "source": [
    "import sklearn\n",
    "print(sklearn.__version__)\n"
   ]
  },
  {
   "cell_type": "code",
   "execution_count": 30,
   "id": "974d4827-9a4c-4dd5-b849-ad26a28fbabb",
   "metadata": {},
   "outputs": [
    {
     "ename": "NameError",
     "evalue": "name 'Stemmer' is not defined",
     "output_type": "error",
     "traceback": [
      "\u001b[1;31m---------------------------------------------------------------------------\u001b[0m",
      "\u001b[1;31mNameError\u001b[0m                                 Traceback (most recent call last)",
      "Cell \u001b[1;32mIn[30], line 1\u001b[0m\n\u001b[1;32m----> 1\u001b[0m df[\u001b[38;5;124m'\u001b[39m\u001b[38;5;124mtext\u001b[39m\u001b[38;5;124m'\u001b[39m] \u001b[38;5;241m=\u001b[39m \u001b[43mdf\u001b[49m\u001b[43m[\u001b[49m\u001b[38;5;124;43m'\u001b[39;49m\u001b[38;5;124;43mtext\u001b[39;49m\u001b[38;5;124;43m'\u001b[39;49m\u001b[43m]\u001b[49m\u001b[38;5;241;43m.\u001b[39;49m\u001b[43mapply\u001b[49m\u001b[43m(\u001b[49m\u001b[38;5;28;43;01mlambda\u001b[39;49;00m\u001b[43m \u001b[49m\u001b[43mx\u001b[49m\u001b[43m:\u001b[49m\u001b[43m \u001b[49m\u001b[43mtoken\u001b[49m\u001b[43m(\u001b[49m\u001b[43mx\u001b[49m\u001b[43m)\u001b[49m\u001b[43m)\u001b[49m\n",
      "File \u001b[1;32mc:\\Users\\krushna sonawane\\AppData\\Local\\Programs\\Python\\Python312\\Lib\\site-packages\\pandas\\core\\series.py:4924\u001b[0m, in \u001b[0;36mSeries.apply\u001b[1;34m(self, func, convert_dtype, args, by_row, **kwargs)\u001b[0m\n\u001b[0;32m   4789\u001b[0m \u001b[38;5;28;01mdef\u001b[39;00m \u001b[38;5;21mapply\u001b[39m(\n\u001b[0;32m   4790\u001b[0m     \u001b[38;5;28mself\u001b[39m,\n\u001b[0;32m   4791\u001b[0m     func: AggFuncType,\n\u001b[1;32m   (...)\u001b[0m\n\u001b[0;32m   4796\u001b[0m     \u001b[38;5;241m*\u001b[39m\u001b[38;5;241m*\u001b[39mkwargs,\n\u001b[0;32m   4797\u001b[0m ) \u001b[38;5;241m-\u001b[39m\u001b[38;5;241m>\u001b[39m DataFrame \u001b[38;5;241m|\u001b[39m Series:\n\u001b[0;32m   4798\u001b[0m \u001b[38;5;250m    \u001b[39m\u001b[38;5;124;03m\"\"\"\u001b[39;00m\n\u001b[0;32m   4799\u001b[0m \u001b[38;5;124;03m    Invoke function on values of Series.\u001b[39;00m\n\u001b[0;32m   4800\u001b[0m \n\u001b[1;32m   (...)\u001b[0m\n\u001b[0;32m   4915\u001b[0m \u001b[38;5;124;03m    dtype: float64\u001b[39;00m\n\u001b[0;32m   4916\u001b[0m \u001b[38;5;124;03m    \"\"\"\u001b[39;00m\n\u001b[0;32m   4917\u001b[0m     \u001b[38;5;28;01mreturn\u001b[39;00m \u001b[43mSeriesApply\u001b[49m\u001b[43m(\u001b[49m\n\u001b[0;32m   4918\u001b[0m \u001b[43m        \u001b[49m\u001b[38;5;28;43mself\u001b[39;49m\u001b[43m,\u001b[49m\n\u001b[0;32m   4919\u001b[0m \u001b[43m        \u001b[49m\u001b[43mfunc\u001b[49m\u001b[43m,\u001b[49m\n\u001b[0;32m   4920\u001b[0m \u001b[43m        \u001b[49m\u001b[43mconvert_dtype\u001b[49m\u001b[38;5;241;43m=\u001b[39;49m\u001b[43mconvert_dtype\u001b[49m\u001b[43m,\u001b[49m\n\u001b[0;32m   4921\u001b[0m \u001b[43m        \u001b[49m\u001b[43mby_row\u001b[49m\u001b[38;5;241;43m=\u001b[39;49m\u001b[43mby_row\u001b[49m\u001b[43m,\u001b[49m\n\u001b[0;32m   4922\u001b[0m \u001b[43m        \u001b[49m\u001b[43margs\u001b[49m\u001b[38;5;241;43m=\u001b[39;49m\u001b[43margs\u001b[49m\u001b[43m,\u001b[49m\n\u001b[0;32m   4923\u001b[0m \u001b[43m        \u001b[49m\u001b[43mkwargs\u001b[49m\u001b[38;5;241;43m=\u001b[39;49m\u001b[43mkwargs\u001b[49m\u001b[43m,\u001b[49m\n\u001b[1;32m-> 4924\u001b[0m \u001b[43m    \u001b[49m\u001b[43m)\u001b[49m\u001b[38;5;241;43m.\u001b[39;49m\u001b[43mapply\u001b[49m\u001b[43m(\u001b[49m\u001b[43m)\u001b[49m\n",
      "File \u001b[1;32mc:\\Users\\krushna sonawane\\AppData\\Local\\Programs\\Python\\Python312\\Lib\\site-packages\\pandas\\core\\apply.py:1427\u001b[0m, in \u001b[0;36mSeriesApply.apply\u001b[1;34m(self)\u001b[0m\n\u001b[0;32m   1424\u001b[0m     \u001b[38;5;28;01mreturn\u001b[39;00m \u001b[38;5;28mself\u001b[39m\u001b[38;5;241m.\u001b[39mapply_compat()\n\u001b[0;32m   1426\u001b[0m \u001b[38;5;66;03m# self.func is Callable\u001b[39;00m\n\u001b[1;32m-> 1427\u001b[0m \u001b[38;5;28;01mreturn\u001b[39;00m \u001b[38;5;28;43mself\u001b[39;49m\u001b[38;5;241;43m.\u001b[39;49m\u001b[43mapply_standard\u001b[49m\u001b[43m(\u001b[49m\u001b[43m)\u001b[49m\n",
      "File \u001b[1;32mc:\\Users\\krushna sonawane\\AppData\\Local\\Programs\\Python\\Python312\\Lib\\site-packages\\pandas\\core\\apply.py:1507\u001b[0m, in \u001b[0;36mSeriesApply.apply_standard\u001b[1;34m(self)\u001b[0m\n\u001b[0;32m   1501\u001b[0m \u001b[38;5;66;03m# row-wise access\u001b[39;00m\n\u001b[0;32m   1502\u001b[0m \u001b[38;5;66;03m# apply doesn't have a `na_action` keyword and for backward compat reasons\u001b[39;00m\n\u001b[0;32m   1503\u001b[0m \u001b[38;5;66;03m# we need to give `na_action=\"ignore\"` for categorical data.\u001b[39;00m\n\u001b[0;32m   1504\u001b[0m \u001b[38;5;66;03m# TODO: remove the `na_action=\"ignore\"` when that default has been changed in\u001b[39;00m\n\u001b[0;32m   1505\u001b[0m \u001b[38;5;66;03m#  Categorical (GH51645).\u001b[39;00m\n\u001b[0;32m   1506\u001b[0m action \u001b[38;5;241m=\u001b[39m \u001b[38;5;124m\"\u001b[39m\u001b[38;5;124mignore\u001b[39m\u001b[38;5;124m\"\u001b[39m \u001b[38;5;28;01mif\u001b[39;00m \u001b[38;5;28misinstance\u001b[39m(obj\u001b[38;5;241m.\u001b[39mdtype, CategoricalDtype) \u001b[38;5;28;01melse\u001b[39;00m \u001b[38;5;28;01mNone\u001b[39;00m\n\u001b[1;32m-> 1507\u001b[0m mapped \u001b[38;5;241m=\u001b[39m \u001b[43mobj\u001b[49m\u001b[38;5;241;43m.\u001b[39;49m\u001b[43m_map_values\u001b[49m\u001b[43m(\u001b[49m\n\u001b[0;32m   1508\u001b[0m \u001b[43m    \u001b[49m\u001b[43mmapper\u001b[49m\u001b[38;5;241;43m=\u001b[39;49m\u001b[43mcurried\u001b[49m\u001b[43m,\u001b[49m\u001b[43m \u001b[49m\u001b[43mna_action\u001b[49m\u001b[38;5;241;43m=\u001b[39;49m\u001b[43maction\u001b[49m\u001b[43m,\u001b[49m\u001b[43m \u001b[49m\u001b[43mconvert\u001b[49m\u001b[38;5;241;43m=\u001b[39;49m\u001b[38;5;28;43mself\u001b[39;49m\u001b[38;5;241;43m.\u001b[39;49m\u001b[43mconvert_dtype\u001b[49m\n\u001b[0;32m   1509\u001b[0m \u001b[43m\u001b[49m\u001b[43m)\u001b[49m\n\u001b[0;32m   1511\u001b[0m \u001b[38;5;28;01mif\u001b[39;00m \u001b[38;5;28mlen\u001b[39m(mapped) \u001b[38;5;129;01mand\u001b[39;00m \u001b[38;5;28misinstance\u001b[39m(mapped[\u001b[38;5;241m0\u001b[39m], ABCSeries):\n\u001b[0;32m   1512\u001b[0m     \u001b[38;5;66;03m# GH#43986 Need to do list(mapped) in order to get treated as nested\u001b[39;00m\n\u001b[0;32m   1513\u001b[0m     \u001b[38;5;66;03m#  See also GH#25959 regarding EA support\u001b[39;00m\n\u001b[0;32m   1514\u001b[0m     \u001b[38;5;28;01mreturn\u001b[39;00m obj\u001b[38;5;241m.\u001b[39m_constructor_expanddim(\u001b[38;5;28mlist\u001b[39m(mapped), index\u001b[38;5;241m=\u001b[39mobj\u001b[38;5;241m.\u001b[39mindex)\n",
      "File \u001b[1;32mc:\\Users\\krushna sonawane\\AppData\\Local\\Programs\\Python\\Python312\\Lib\\site-packages\\pandas\\core\\base.py:921\u001b[0m, in \u001b[0;36mIndexOpsMixin._map_values\u001b[1;34m(self, mapper, na_action, convert)\u001b[0m\n\u001b[0;32m    918\u001b[0m \u001b[38;5;28;01mif\u001b[39;00m \u001b[38;5;28misinstance\u001b[39m(arr, ExtensionArray):\n\u001b[0;32m    919\u001b[0m     \u001b[38;5;28;01mreturn\u001b[39;00m arr\u001b[38;5;241m.\u001b[39mmap(mapper, na_action\u001b[38;5;241m=\u001b[39mna_action)\n\u001b[1;32m--> 921\u001b[0m \u001b[38;5;28;01mreturn\u001b[39;00m \u001b[43malgorithms\u001b[49m\u001b[38;5;241;43m.\u001b[39;49m\u001b[43mmap_array\u001b[49m\u001b[43m(\u001b[49m\u001b[43marr\u001b[49m\u001b[43m,\u001b[49m\u001b[43m \u001b[49m\u001b[43mmapper\u001b[49m\u001b[43m,\u001b[49m\u001b[43m \u001b[49m\u001b[43mna_action\u001b[49m\u001b[38;5;241;43m=\u001b[39;49m\u001b[43mna_action\u001b[49m\u001b[43m,\u001b[49m\u001b[43m \u001b[49m\u001b[43mconvert\u001b[49m\u001b[38;5;241;43m=\u001b[39;49m\u001b[43mconvert\u001b[49m\u001b[43m)\u001b[49m\n",
      "File \u001b[1;32mc:\\Users\\krushna sonawane\\AppData\\Local\\Programs\\Python\\Python312\\Lib\\site-packages\\pandas\\core\\algorithms.py:1743\u001b[0m, in \u001b[0;36mmap_array\u001b[1;34m(arr, mapper, na_action, convert)\u001b[0m\n\u001b[0;32m   1741\u001b[0m values \u001b[38;5;241m=\u001b[39m arr\u001b[38;5;241m.\u001b[39mastype(\u001b[38;5;28mobject\u001b[39m, copy\u001b[38;5;241m=\u001b[39m\u001b[38;5;28;01mFalse\u001b[39;00m)\n\u001b[0;32m   1742\u001b[0m \u001b[38;5;28;01mif\u001b[39;00m na_action \u001b[38;5;129;01mis\u001b[39;00m \u001b[38;5;28;01mNone\u001b[39;00m:\n\u001b[1;32m-> 1743\u001b[0m     \u001b[38;5;28;01mreturn\u001b[39;00m \u001b[43mlib\u001b[49m\u001b[38;5;241;43m.\u001b[39;49m\u001b[43mmap_infer\u001b[49m\u001b[43m(\u001b[49m\u001b[43mvalues\u001b[49m\u001b[43m,\u001b[49m\u001b[43m \u001b[49m\u001b[43mmapper\u001b[49m\u001b[43m,\u001b[49m\u001b[43m \u001b[49m\u001b[43mconvert\u001b[49m\u001b[38;5;241;43m=\u001b[39;49m\u001b[43mconvert\u001b[49m\u001b[43m)\u001b[49m\n\u001b[0;32m   1744\u001b[0m \u001b[38;5;28;01melse\u001b[39;00m:\n\u001b[0;32m   1745\u001b[0m     \u001b[38;5;28;01mreturn\u001b[39;00m lib\u001b[38;5;241m.\u001b[39mmap_infer_mask(\n\u001b[0;32m   1746\u001b[0m         values, mapper, mask\u001b[38;5;241m=\u001b[39misna(values)\u001b[38;5;241m.\u001b[39mview(np\u001b[38;5;241m.\u001b[39muint8), convert\u001b[38;5;241m=\u001b[39mconvert\n\u001b[0;32m   1747\u001b[0m     )\n",
      "File \u001b[1;32mlib.pyx:2972\u001b[0m, in \u001b[0;36mpandas._libs.lib.map_infer\u001b[1;34m()\u001b[0m\n",
      "Cell \u001b[1;32mIn[30], line 1\u001b[0m, in \u001b[0;36m<lambda>\u001b[1;34m(x)\u001b[0m\n\u001b[1;32m----> 1\u001b[0m df[\u001b[38;5;124m'\u001b[39m\u001b[38;5;124mtext\u001b[39m\u001b[38;5;124m'\u001b[39m] \u001b[38;5;241m=\u001b[39m df[\u001b[38;5;124m'\u001b[39m\u001b[38;5;124mtext\u001b[39m\u001b[38;5;124m'\u001b[39m]\u001b[38;5;241m.\u001b[39mapply(\u001b[38;5;28;01mlambda\u001b[39;00m x: \u001b[43mtoken\u001b[49m\u001b[43m(\u001b[49m\u001b[43mx\u001b[49m\u001b[43m)\u001b[49m)\n",
      "Cell \u001b[1;32mIn[21], line 3\u001b[0m, in \u001b[0;36mtoken\u001b[1;34m(txt)\u001b[0m\n\u001b[0;32m      1\u001b[0m \u001b[38;5;28;01mdef\u001b[39;00m \u001b[38;5;21mtoken\u001b[39m(txt):\n\u001b[0;32m      2\u001b[0m     token \u001b[38;5;241m=\u001b[39m nltk\u001b[38;5;241m.\u001b[39mword_tokenize(txt)\n\u001b[1;32m----> 3\u001b[0m     [\u001b[43mStemmer\u001b[49m \u001b[38;5;241m.\u001b[39msteam(w) \u001b[38;5;28;01mfor\u001b[39;00m w \u001b[38;5;129;01min\u001b[39;00m token]\n\u001b[0;32m      4\u001b[0m     \u001b[38;5;28;01mreturn\u001b[39;00m \u001b[38;5;124m\"\u001b[39m\u001b[38;5;124m \u001b[39m\u001b[38;5;124m\"\u001b[39m \u001b[38;5;241m.\u001b[39mjoin(a)\n",
      "\u001b[1;31mNameError\u001b[0m: name 'Stemmer' is not defined"
     ]
    }
   ],
   "source": [
    "df['text'] = df['text'].apply(lambda x: token(x))"
   ]
  },
  {
   "cell_type": "code",
   "execution_count": null,
   "id": "ef363e1a-cf0a-4c3f-81f1-2da9baf9e8fa",
   "metadata": {},
   "outputs": [],
   "source": [
    "from sklearn.feature_extraction.text import TfidfVectorizer\n",
    "from sklearn.metrics.pairwise import cosine_similarity\n"
   ]
  },
  {
   "cell_type": "code",
   "execution_count": null,
   "id": "871ad09c-4881-46f0-93e9-abaa6512e8f0",
   "metadata": {},
   "outputs": [],
   "source": [
    "import nltk\n",
    "from nltk.stem import PorterStemmer\n",
    "from nltk.tokenize import word_tokenize\n",
    "\n",
    "# Create a stemmer object\n",
    "stemmer = PorterStemmer()\n",
    "\n",
    "# Define the token function\n",
    "def token(txt):\n",
    "    # Tokenize the text\n",
    "    tokens = word_tokenize(txt)\n",
    "    # Apply stemming to each word\n",
    "    stemmed_words = [stemmer.stem(w) for w in tokens]\n",
    "    # Join the stemmed words back into a single string\n",
    "    return \" \".join(stemmed_words)\n",
    "\n",
    "# Apply the function to the 'text' column of your DataFrame\n",
    "\n"
   ]
  },
  {
   "cell_type": "code",
   "execution_count": null,
   "id": "221536ef-951f-426b-b941-3fe822912036",
   "metadata": {},
   "outputs": [],
   "source": [
    "tfid= TfidfVectorizer(analyzer='word', stop_words='english')"
   ]
  },
  {
   "cell_type": "code",
   "execution_count": null,
   "id": "cee6d080-2a64-4052-9101-7e113a752abe",
   "metadata": {},
   "outputs": [],
   "source": [
    "matrix= tfid.fit_transform(df[\"text\"])"
   ]
  },
  {
   "cell_type": "code",
   "execution_count": null,
   "id": "5b9f91dc-4e50-4ccd-9086-ae4bc233ea6c",
   "metadata": {},
   "outputs": [],
   "source": [
    "matrix"
   ]
  },
  {
   "cell_type": "code",
   "execution_count": null,
   "id": "0636f6f3-36db-4d1c-9f21-1b78f559b52b",
   "metadata": {},
   "outputs": [],
   "source": [
    "similer= cosine_similer(matrix)"
   ]
  },
  {
   "cell_type": "code",
   "execution_count": 39,
   "id": "a0e56f47-cf68-42af-a1ba-baae64c2edb2",
   "metadata": {},
   "outputs": [
    {
     "ename": "NameError",
     "evalue": "name 'similer' is not defined",
     "output_type": "error",
     "traceback": [
      "\u001b[1;31m---------------------------------------------------------------------------\u001b[0m",
      "\u001b[1;31mNameError\u001b[0m                                 Traceback (most recent call last)",
      "Cell \u001b[1;32mIn[39], line 1\u001b[0m\n\u001b[1;32m----> 1\u001b[0m \u001b[43msimiler\u001b[49m[\u001b[38;5;241m0\u001b[39m]\n",
      "\u001b[1;31mNameError\u001b[0m: name 'similer' is not defined"
     ]
    }
   ],
   "source": [
    "similer[0]"
   ]
  },
  {
   "cell_type": "code",
   "execution_count": 40,
   "id": "af42af1d-c196-402b-99cc-68fb250da9e8",
   "metadata": {},
   "outputs": [
    {
     "data": {
      "text/html": [
       "<div>\n",
       "<style scoped>\n",
       "    .dataframe tbody tr th:only-of-type {\n",
       "        vertical-align: middle;\n",
       "    }\n",
       "\n",
       "    .dataframe tbody tr th {\n",
       "        vertical-align: top;\n",
       "    }\n",
       "\n",
       "    .dataframe thead th {\n",
       "        text-align: right;\n",
       "    }\n",
       "</style>\n",
       "<table border=\"1\" class=\"dataframe\">\n",
       "  <thead>\n",
       "    <tr style=\"text-align: right;\">\n",
       "      <th></th>\n",
       "      <th>artist</th>\n",
       "      <th>song</th>\n",
       "      <th>text</th>\n",
       "    </tr>\n",
       "  </thead>\n",
       "  <tbody>\n",
       "  </tbody>\n",
       "</table>\n",
       "</div>"
      ],
      "text/plain": [
       "Empty DataFrame\n",
       "Columns: [artist, song, text]\n",
       "Index: []"
      ]
     },
     "execution_count": 40,
     "metadata": {},
     "output_type": "execute_result"
    }
   ],
   "source": [
    "df[df['song']==\" Ahe's My Kind Of Girl\"]"
   ]
  },
  {
   "cell_type": "code",
   "execution_count": 41,
   "id": "e5428f3c-ca3f-4c06-b7ed-df04a8dd9616",
   "metadata": {},
   "outputs": [
    {
     "ename": "IndexError",
     "evalue": "index 0 is out of bounds for axis 0 with size 0",
     "output_type": "error",
     "traceback": [
      "\u001b[1;31m---------------------------------------------------------------------------\u001b[0m",
      "\u001b[1;31mIndexError\u001b[0m                                Traceback (most recent call last)",
      "Cell \u001b[1;32mIn[41], line 1\u001b[0m\n\u001b[1;32m----> 1\u001b[0m filtered_df \u001b[38;5;241m=\u001b[39m \u001b[43mdf\u001b[49m\u001b[43m[\u001b[49m\u001b[43mdf\u001b[49m\u001b[43m[\u001b[49m\u001b[38;5;124;43m'\u001b[39;49m\u001b[38;5;124;43msong\u001b[39;49m\u001b[38;5;124;43m'\u001b[39;49m\u001b[43m]\u001b[49m\u001b[43m \u001b[49m\u001b[38;5;241;43m==\u001b[39;49m\u001b[43m \u001b[49m\u001b[38;5;124;43m\"\u001b[39;49m\u001b[38;5;124;43mAin\u001b[39;49m\u001b[38;5;124;43m'\u001b[39;49m\u001b[38;5;124;43mt It Blue?\u001b[39;49m\u001b[38;5;124;43m\"\u001b[39;49m\u001b[43m]\u001b[49m\u001b[38;5;241;43m.\u001b[39;49m\u001b[43mindex\u001b[49m\u001b[43m[\u001b[49m\u001b[38;5;241;43m0\u001b[39;49m\u001b[43m]\u001b[49m\n",
      "File \u001b[1;32m~\\AppData\\Local\\Programs\\Python\\Python312\\Lib\\site-packages\\pandas\\core\\indexes\\base.py:5389\u001b[0m, in \u001b[0;36mIndex.__getitem__\u001b[1;34m(self, key)\u001b[0m\n\u001b[0;32m   5386\u001b[0m \u001b[38;5;28;01mif\u001b[39;00m is_integer(key) \u001b[38;5;129;01mor\u001b[39;00m is_float(key):\n\u001b[0;32m   5387\u001b[0m     \u001b[38;5;66;03m# GH#44051 exclude bool, which would return a 2d ndarray\u001b[39;00m\n\u001b[0;32m   5388\u001b[0m     key \u001b[38;5;241m=\u001b[39m com\u001b[38;5;241m.\u001b[39mcast_scalar_indexer(key)\n\u001b[1;32m-> 5389\u001b[0m     \u001b[38;5;28;01mreturn\u001b[39;00m \u001b[43mgetitem\u001b[49m\u001b[43m(\u001b[49m\u001b[43mkey\u001b[49m\u001b[43m)\u001b[49m\n\u001b[0;32m   5391\u001b[0m \u001b[38;5;28;01mif\u001b[39;00m \u001b[38;5;28misinstance\u001b[39m(key, \u001b[38;5;28mslice\u001b[39m):\n\u001b[0;32m   5392\u001b[0m     \u001b[38;5;66;03m# This case is separated from the conditional above to avoid\u001b[39;00m\n\u001b[0;32m   5393\u001b[0m     \u001b[38;5;66;03m# pessimization com.is_bool_indexer and ndim checks.\u001b[39;00m\n\u001b[0;32m   5394\u001b[0m     \u001b[38;5;28;01mreturn\u001b[39;00m \u001b[38;5;28mself\u001b[39m\u001b[38;5;241m.\u001b[39m_getitem_slice(key)\n",
      "\u001b[1;31mIndexError\u001b[0m: index 0 is out of bounds for axis 0 with size 0"
     ]
    }
   ],
   "source": [
    "filtered_df = df[df['song'] == \"Ain't It Blue?\"].index[0]"
   ]
  },
  {
   "cell_type": "code",
   "execution_count": 42,
   "id": "ed2ef464-4154-420e-a834-9fa75c1060a6",
   "metadata": {},
   "outputs": [
    {
     "ename": "IndexError",
     "evalue": "index 0 is out of bounds for axis 0 with size 0",
     "output_type": "error",
     "traceback": [
      "\u001b[1;31m---------------------------------------------------------------------------\u001b[0m",
      "\u001b[1;31mIndexError\u001b[0m                                Traceback (most recent call last)",
      "Cell \u001b[1;32mIn[42], line 1\u001b[0m\n\u001b[1;32m----> 1\u001b[0m \u001b[43m(\u001b[49m\u001b[43mdf\u001b[49m\u001b[43m[\u001b[49m\u001b[43mdf\u001b[49m\u001b[43m[\u001b[49m\u001b[38;5;124;43m'\u001b[39;49m\u001b[38;5;124;43msong\u001b[39;49m\u001b[38;5;124;43m'\u001b[39;49m\u001b[43m]\u001b[49m\u001b[43m \u001b[49m\u001b[38;5;241;43m==\u001b[39;49m\u001b[38;5;124;43m\"\u001b[39;49m\u001b[38;5;124;43mAs Good As Ne\t\u001b[39;49m\u001b[38;5;124;43m\"\u001b[39;49m\u001b[43m]\u001b[49m\u001b[43m)\u001b[49m\u001b[38;5;241;43m.\u001b[39;49m\u001b[43mindex\u001b[49m\u001b[43m[\u001b[49m\u001b[38;5;241;43m0\u001b[39;49m\u001b[43m]\u001b[49m\n",
      "File \u001b[1;32m~\\AppData\\Local\\Programs\\Python\\Python312\\Lib\\site-packages\\pandas\\core\\indexes\\base.py:5389\u001b[0m, in \u001b[0;36mIndex.__getitem__\u001b[1;34m(self, key)\u001b[0m\n\u001b[0;32m   5386\u001b[0m \u001b[38;5;28;01mif\u001b[39;00m is_integer(key) \u001b[38;5;129;01mor\u001b[39;00m is_float(key):\n\u001b[0;32m   5387\u001b[0m     \u001b[38;5;66;03m# GH#44051 exclude bool, which would return a 2d ndarray\u001b[39;00m\n\u001b[0;32m   5388\u001b[0m     key \u001b[38;5;241m=\u001b[39m com\u001b[38;5;241m.\u001b[39mcast_scalar_indexer(key)\n\u001b[1;32m-> 5389\u001b[0m     \u001b[38;5;28;01mreturn\u001b[39;00m \u001b[43mgetitem\u001b[49m\u001b[43m(\u001b[49m\u001b[43mkey\u001b[49m\u001b[43m)\u001b[49m\n\u001b[0;32m   5391\u001b[0m \u001b[38;5;28;01mif\u001b[39;00m \u001b[38;5;28misinstance\u001b[39m(key, \u001b[38;5;28mslice\u001b[39m):\n\u001b[0;32m   5392\u001b[0m     \u001b[38;5;66;03m# This case is separated from the conditional above to avoid\u001b[39;00m\n\u001b[0;32m   5393\u001b[0m     \u001b[38;5;66;03m# pessimization com.is_bool_indexer and ndim checks.\u001b[39;00m\n\u001b[0;32m   5394\u001b[0m     \u001b[38;5;28;01mreturn\u001b[39;00m \u001b[38;5;28mself\u001b[39m\u001b[38;5;241m.\u001b[39m_getitem_slice(key)\n",
      "\u001b[1;31mIndexError\u001b[0m: index 0 is out of bounds for axis 0 with size 0"
     ]
    }
   ],
   "source": [
    "(df[df['song'] ==\"Ahe's My Kind Of Girl\t\"]).index[0]\n"
   ]
  },
  {
   "cell_type": "code",
   "execution_count": 43,
   "id": "c88182f3-8f5d-49a0-95a7-7d7587d6cde5",
   "metadata": {},
   "outputs": [],
   "source": [
    "def recommendar(song_df):\n",
    "    idx = df[df['song'] == song_df].index[0]\n",
    "    distances = sorted(list(enumerate(similer[idx])),reverse=True,key=lambda x:x[1])\n",
    "    \n",
    "    songs = []\n",
    "    for m_id in distances[1:21]:\n",
    "        songs.append(df.iloc[m_id[0]].song)\n",
    "        \n",
    "    return songs"
   ]
  },
  {
   "cell_type": "code",
   "execution_count": 4,
   "id": "ba280c28-f38d-473a-be62-fa9c8015eb6e",
   "metadata": {},
   "outputs": [
    {
     "ename": "NameError",
     "evalue": "name 'recommendar' is not defined",
     "output_type": "error",
     "traceback": [
      "\u001b[1;31m---------------------------------------------------------------------------\u001b[0m",
      "\u001b[1;31mNameError\u001b[0m                                 Traceback (most recent call last)",
      "Cell \u001b[1;32mIn[4], line 1\u001b[0m\n\u001b[1;32m----> 1\u001b[0m \u001b[43mrecommendar\u001b[49m(\u001b[38;5;124m'\u001b[39m\u001b[38;5;124mDesire\u001b[39m\u001b[38;5;124m'\u001b[39m)\n",
      "\u001b[1;31mNameError\u001b[0m: name 'recommendar' is not defined"
     ]
    }
   ],
   "source": [
    "recommendar('Desire')"
   ]
  },
  {
   "cell_type": "code",
   "execution_count": null,
   "id": "419bc667-8a21-4e9c-8f4a-30c8cc88e565",
   "metadata": {},
   "outputs": [],
   "source": []
  },
  {
   "cell_type": "code",
   "execution_count": null,
   "id": "08b605ab-9236-4839-9d5b-a9cda7f98424",
   "metadata": {},
   "outputs": [],
   "source": []
  },
  {
   "cell_type": "code",
   "execution_count": null,
   "id": "a7d9702e-129d-4294-93ef-3426f4a90d73",
   "metadata": {},
   "outputs": [],
   "source": []
  },
  {
   "cell_type": "code",
   "execution_count": null,
   "id": "a8d2c0a5-ef22-44d0-9444-f6cb2b7be252",
   "metadata": {},
   "outputs": [],
   "source": []
  },
  {
   "cell_type": "code",
   "execution_count": null,
   "id": "fc627d7d-0ac0-4eaf-b437-c670fb545e80",
   "metadata": {},
   "outputs": [],
   "source": []
  },
  {
   "cell_type": "code",
   "execution_count": null,
   "id": "52eb8989-e3e6-4827-b9f7-2f251bbc9457",
   "metadata": {},
   "outputs": [],
   "source": []
  },
  {
   "cell_type": "code",
   "execution_count": null,
   "id": "93c224b9-46e7-4f9f-a7d1-04616ea8208d",
   "metadata": {},
   "outputs": [],
   "source": []
  },
  {
   "cell_type": "code",
   "execution_count": null,
   "id": "7479b1c0-065a-4c5b-be85-5b306646db8f",
   "metadata": {},
   "outputs": [],
   "source": []
  },
  {
   "cell_type": "code",
   "execution_count": null,
   "id": "eecf203b-a469-42e1-b28a-bd6ea4e2bf7e",
   "metadata": {},
   "outputs": [],
   "source": []
  },
  {
   "cell_type": "code",
   "execution_count": null,
   "id": "dfea1f17-4168-4fe2-a443-d7abe7fca5a7",
   "metadata": {},
   "outputs": [],
   "source": []
  },
  {
   "cell_type": "code",
   "execution_count": null,
   "id": "c58f0048-78e2-440f-809b-a3473ce0a57d",
   "metadata": {},
   "outputs": [],
   "source": []
  },
  {
   "cell_type": "code",
   "execution_count": null,
   "id": "32bb9190-38a8-46b8-85b9-1dcdc0b80543",
   "metadata": {},
   "outputs": [],
   "source": []
  },
  {
   "cell_type": "code",
   "execution_count": null,
   "id": "2ca4c918-54f0-4a48-94b6-9f829f78b7c1",
   "metadata": {},
   "outputs": [],
   "source": []
  },
  {
   "cell_type": "code",
   "execution_count": null,
   "id": "ff1e7a75-62ff-4d25-aa5c-958a13699926",
   "metadata": {},
   "outputs": [],
   "source": []
  },
  {
   "cell_type": "code",
   "execution_count": null,
   "id": "0c619c53-f9f5-4fd9-8d89-191559887ed5",
   "metadata": {},
   "outputs": [],
   "source": []
  },
  {
   "cell_type": "code",
   "execution_count": null,
   "id": "49a59840-f829-402f-b240-e5b6b39795ba",
   "metadata": {},
   "outputs": [],
   "source": []
  },
  {
   "cell_type": "code",
   "execution_count": null,
   "id": "213237c5-0e90-480c-8a6b-30f6d92ce9a1",
   "metadata": {},
   "outputs": [],
   "source": []
  },
  {
   "cell_type": "code",
   "execution_count": null,
   "id": "3d44798e-9317-4e62-a84a-d6bd3d566c7b",
   "metadata": {},
   "outputs": [],
   "source": []
  },
  {
   "cell_type": "code",
   "execution_count": null,
   "id": "41d76d3f-878a-41f2-8811-a0cc917a4c19",
   "metadata": {},
   "outputs": [],
   "source": []
  }
 ],
 "metadata": {
  "kernelspec": {
   "display_name": "Python 3",
   "language": "python",
   "name": "python3"
  },
  "language_info": {
   "codemirror_mode": {
    "name": "ipython",
    "version": 3
   },
   "file_extension": ".py",
   "mimetype": "text/x-python",
   "name": "python",
   "nbconvert_exporter": "python",
   "pygments_lexer": "ipython3",
   "version": "3.12.6"
  }
 },
 "nbformat": 4,
 "nbformat_minor": 5
}
