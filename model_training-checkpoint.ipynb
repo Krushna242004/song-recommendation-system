{
 "cells": [
  {
   "cell_type": "code",
   "execution_count": 44,
   "id": "fc22dcc5-343c-4f56-a237-28113847aa78",
   "metadata": {},
   "outputs": [],
   "source": [
    "import pandas as pd"
   ]
  },
  {
   "cell_type": "code",
   "execution_count": 45,
   "id": "e7f6cba2-a207-4999-bc36-566e80f16d6d",
   "metadata": {},
   "outputs": [],
   "source": [
    "df = pd.read_csv(\"spotify_millsongdata.csv\")"
   ]
  },
  {
   "cell_type": "code",
   "execution_count": 46,
   "id": "a99b03aa-2973-42e2-a894-2ba86aadfa39",
   "metadata": {},
   "outputs": [
    {
     "data": {
      "text/html": [
       "<div>\n",
       "<style scoped>\n",
       "    .dataframe tbody tr th:only-of-type {\n",
       "        vertical-align: middle;\n",
       "    }\n",
       "\n",
       "    .dataframe tbody tr th {\n",
       "        vertical-align: top;\n",
       "    }\n",
       "\n",
       "    .dataframe thead th {\n",
       "        text-align: right;\n",
       "    }\n",
       "</style>\n",
       "<table border=\"1\" class=\"dataframe\">\n",
       "  <thead>\n",
       "    <tr style=\"text-align: right;\">\n",
       "      <th></th>\n",
       "      <th>artist</th>\n",
       "      <th>song</th>\n",
       "      <th>link</th>\n",
       "      <th>text</th>\n",
       "      <th>spotify_link</th>\n",
       "    </tr>\n",
       "  </thead>\n",
       "  <tbody>\n",
       "    <tr>\n",
       "      <th>0</th>\n",
       "      <td>ABBA</td>\n",
       "      <td>Ahe's My Kind Of Girl</td>\n",
       "      <td>/a/abba/ahes+my+kind+of+girl_20598417.html</td>\n",
       "      <td>Look at her face, it's a wonderful face  \\r\\nA...</td>\n",
       "      <td>NaN</td>\n",
       "    </tr>\n",
       "    <tr>\n",
       "      <th>1</th>\n",
       "      <td>ABBA</td>\n",
       "      <td>Andante, Andante</td>\n",
       "      <td>/a/abba/andante+andante_20002708.html</td>\n",
       "      <td>Take it easy with me, please  \\r\\nTouch me gen...</td>\n",
       "      <td>https://open.spotify.com/track/1JnHZagDFvrT2lx...</td>\n",
       "    </tr>\n",
       "    <tr>\n",
       "      <th>2</th>\n",
       "      <td>ABBA</td>\n",
       "      <td>As Good As New</td>\n",
       "      <td>/a/abba/as+good+as+new_20003033.html</td>\n",
       "      <td>I'll never know why I had to go  \\r\\nWhy I had...</td>\n",
       "      <td>https://open.spotify.com/track/71or1G6CbfIttRD...</td>\n",
       "    </tr>\n",
       "    <tr>\n",
       "      <th>3</th>\n",
       "      <td>ABBA</td>\n",
       "      <td>Bang</td>\n",
       "      <td>/a/abba/bang_20598415.html</td>\n",
       "      <td>Making somebody happy is a question of give an...</td>\n",
       "      <td>https://open.spotify.com/track/75UdklaJHB2iYhQ...</td>\n",
       "    </tr>\n",
       "    <tr>\n",
       "      <th>4</th>\n",
       "      <td>ABBA</td>\n",
       "      <td>Bang-A-Boomerang</td>\n",
       "      <td>/a/abba/bang+a+boomerang_20002668.html</td>\n",
       "      <td>Making somebody happy is a question of give an...</td>\n",
       "      <td>https://open.spotify.com/track/5jfZEsdQMAaoeDL...</td>\n",
       "    </tr>\n",
       "  </tbody>\n",
       "</table>\n",
       "</div>"
      ],
      "text/plain": [
       "  artist                   song                                        link  \\\n",
       "0   ABBA  Ahe's My Kind Of Girl  /a/abba/ahes+my+kind+of+girl_20598417.html   \n",
       "1   ABBA       Andante, Andante       /a/abba/andante+andante_20002708.html   \n",
       "2   ABBA         As Good As New        /a/abba/as+good+as+new_20003033.html   \n",
       "3   ABBA                   Bang                  /a/abba/bang_20598415.html   \n",
       "4   ABBA       Bang-A-Boomerang      /a/abba/bang+a+boomerang_20002668.html   \n",
       "\n",
       "                                                text  \\\n",
       "0  Look at her face, it's a wonderful face  \\r\\nA...   \n",
       "1  Take it easy with me, please  \\r\\nTouch me gen...   \n",
       "2  I'll never know why I had to go  \\r\\nWhy I had...   \n",
       "3  Making somebody happy is a question of give an...   \n",
       "4  Making somebody happy is a question of give an...   \n",
       "\n",
       "                                        spotify_link  \n",
       "0                                                NaN  \n",
       "1  https://open.spotify.com/track/1JnHZagDFvrT2lx...  \n",
       "2  https://open.spotify.com/track/71or1G6CbfIttRD...  \n",
       "3  https://open.spotify.com/track/75UdklaJHB2iYhQ...  \n",
       "4  https://open.spotify.com/track/5jfZEsdQMAaoeDL...  "
      ]
     },
     "execution_count": 46,
     "metadata": {},
     "output_type": "execute_result"
    }
   ],
   "source": [
    "df . head(5)"
   ]
  },
  {
   "cell_type": "code",
   "execution_count": 47,
   "id": "1a67acf5-b1c4-4767-a1f0-6f15f8de5fb6",
   "metadata": {},
   "outputs": [
    {
     "data": {
      "text/html": [
       "<div>\n",
       "<style scoped>\n",
       "    .dataframe tbody tr th:only-of-type {\n",
       "        vertical-align: middle;\n",
       "    }\n",
       "\n",
       "    .dataframe tbody tr th {\n",
       "        vertical-align: top;\n",
       "    }\n",
       "\n",
       "    .dataframe thead th {\n",
       "        text-align: right;\n",
       "    }\n",
       "</style>\n",
       "<table border=\"1\" class=\"dataframe\">\n",
       "  <thead>\n",
       "    <tr style=\"text-align: right;\">\n",
       "      <th></th>\n",
       "      <th>artist</th>\n",
       "      <th>song</th>\n",
       "      <th>link</th>\n",
       "      <th>text</th>\n",
       "      <th>spotify_link</th>\n",
       "    </tr>\n",
       "  </thead>\n",
       "  <tbody>\n",
       "    <tr>\n",
       "      <th>9965</th>\n",
       "      <td>Judy Garland</td>\n",
       "      <td>Happiness Is A Thing Called Joe</td>\n",
       "      <td>/j/judy+garland/happiness+is+a+thing+called+jo...</td>\n",
       "      <td>It seems like happiness is just a thing called...</td>\n",
       "      <td>https://open.spotify.com/track/4yMcUGu0vEQUm0w...</td>\n",
       "    </tr>\n",
       "    <tr>\n",
       "      <th>9966</th>\n",
       "      <td>Judy Garland</td>\n",
       "      <td>Happy New Year</td>\n",
       "      <td>/j/judy+garland/happy+new+year_20831392.html</td>\n",
       "      <td>The snow makes teardrops on my window  \\r\\nThe...</td>\n",
       "      <td>https://open.spotify.com/track/2vKaEsrzVCBfTKG...</td>\n",
       "    </tr>\n",
       "    <tr>\n",
       "      <th>9967</th>\n",
       "      <td>Judy Garland</td>\n",
       "      <td>Have Yourself A Merry Little Christmas</td>\n",
       "      <td>/j/judy+garland/have+yourself+a+merry+little+c...</td>\n",
       "      <td>Have yourself a merry little Christmas  \\r\\nLe...</td>\n",
       "      <td>https://open.spotify.com/track/030mot3ZKR3oskf...</td>\n",
       "    </tr>\n",
       "    <tr>\n",
       "      <th>9968</th>\n",
       "      <td>Judy Garland</td>\n",
       "      <td>I Am Loved</td>\n",
       "      <td>/j/judy+garland/i+am+loved_21021270.html</td>\n",
       "      <td>I am loved, I am loved by the one I love in ev...</td>\n",
       "      <td>https://open.spotify.com/track/3eullHYTXBY1VK9...</td>\n",
       "    </tr>\n",
       "    <tr>\n",
       "      <th>9969</th>\n",
       "      <td>madan mohan</td>\n",
       "      <td>Do pal</td>\n",
       "      <td>NaN</td>\n",
       "      <td>NaN</td>\n",
       "      <td>NaN</td>\n",
       "    </tr>\n",
       "  </tbody>\n",
       "</table>\n",
       "</div>"
      ],
      "text/plain": [
       "            artist                                    song  \\\n",
       "9965  Judy Garland         Happiness Is A Thing Called Joe   \n",
       "9966  Judy Garland                          Happy New Year   \n",
       "9967  Judy Garland  Have Yourself A Merry Little Christmas   \n",
       "9968  Judy Garland                              I Am Loved   \n",
       "9969  madan mohan                                  Do pal    \n",
       "\n",
       "                                                   link  \\\n",
       "9965  /j/judy+garland/happiness+is+a+thing+called+jo...   \n",
       "9966       /j/judy+garland/happy+new+year_20831392.html   \n",
       "9967  /j/judy+garland/have+yourself+a+merry+little+c...   \n",
       "9968           /j/judy+garland/i+am+loved_21021270.html   \n",
       "9969                                                NaN   \n",
       "\n",
       "                                                   text  \\\n",
       "9965  It seems like happiness is just a thing called...   \n",
       "9966  The snow makes teardrops on my window  \\r\\nThe...   \n",
       "9967  Have yourself a merry little Christmas  \\r\\nLe...   \n",
       "9968  I am loved, I am loved by the one I love in ev...   \n",
       "9969                                                NaN   \n",
       "\n",
       "                                           spotify_link  \n",
       "9965  https://open.spotify.com/track/4yMcUGu0vEQUm0w...  \n",
       "9966  https://open.spotify.com/track/2vKaEsrzVCBfTKG...  \n",
       "9967  https://open.spotify.com/track/030mot3ZKR3oskf...  \n",
       "9968  https://open.spotify.com/track/3eullHYTXBY1VK9...  \n",
       "9969                                                NaN  "
      ]
     },
     "execution_count": 47,
     "metadata": {},
     "output_type": "execute_result"
    }
   ],
   "source": [
    "df . tail(5)"
   ]
  },
  {
   "cell_type": "code",
   "execution_count": 48,
   "id": "3f5fb3b0-c408-40cd-9251-b3b52574b89c",
   "metadata": {},
   "outputs": [
    {
     "data": {
      "text/plain": [
       "(9970, 5)"
      ]
     },
     "execution_count": 48,
     "metadata": {},
     "output_type": "execute_result"
    }
   ],
   "source": [
    "df . shape"
   ]
  },
  {
   "cell_type": "code",
   "execution_count": 49,
   "id": "80f94118-23eb-452d-a80d-99299e160c96",
   "metadata": {},
   "outputs": [
    {
     "data": {
      "text/plain": [
       "artist             0\n",
       "song               0\n",
       "link               1\n",
       "text               1\n",
       "spotify_link    1608\n",
       "dtype: int64"
      ]
     },
     "execution_count": 49,
     "metadata": {},
     "output_type": "execute_result"
    }
   ],
   "source": [
    "df .isnull().sum()"
   ]
  },
  {
   "cell_type": "code",
   "execution_count": 50,
   "id": "076b70aa-3772-48a4-a0f0-169c24bdb4fb",
   "metadata": {},
   "outputs": [],
   "source": [
    "if 'link' in df.columns:\n",
    "    df = df.drop('link', axis=1)"
   ]
  },
  {
   "cell_type": "code",
   "execution_count": 51,
   "id": "a928d7a7-cded-4ce3-97b2-63b58299f14f",
   "metadata": {},
   "outputs": [],
   "source": [
    "sample_size = min(5000, len(df))\n",
    "df = df.sample(sample_size).reset_index(drop=True)"
   ]
  },
  {
   "cell_type": "code",
   "execution_count": 52,
   "id": "36a17b88-bc88-482b-98da-8b362445f5e9",
   "metadata": {},
   "outputs": [
    {
     "data": {
      "text/html": [
       "<div>\n",
       "<style scoped>\n",
       "    .dataframe tbody tr th:only-of-type {\n",
       "        vertical-align: middle;\n",
       "    }\n",
       "\n",
       "    .dataframe tbody tr th {\n",
       "        vertical-align: top;\n",
       "    }\n",
       "\n",
       "    .dataframe thead th {\n",
       "        text-align: right;\n",
       "    }\n",
       "</style>\n",
       "<table border=\"1\" class=\"dataframe\">\n",
       "  <thead>\n",
       "    <tr style=\"text-align: right;\">\n",
       "      <th></th>\n",
       "      <th>artist</th>\n",
       "      <th>song</th>\n",
       "      <th>text</th>\n",
       "      <th>spotify_link</th>\n",
       "    </tr>\n",
       "  </thead>\n",
       "  <tbody>\n",
       "    <tr>\n",
       "      <th>0</th>\n",
       "      <td>Hollies</td>\n",
       "      <td>Hard, Hard Year</td>\n",
       "      <td>Bad times, something's wrong  \\r\\nMoney's gone...</td>\n",
       "      <td>https://open.spotify.com/track/37F5sqBFAA6Mln1...</td>\n",
       "    </tr>\n",
       "    <tr>\n",
       "      <th>1</th>\n",
       "      <td>Enya</td>\n",
       "      <td>It's In The Rain</td>\n",
       "      <td>Every time the rain comes down  \\r\\nI close my...</td>\n",
       "      <td>https://open.spotify.com/track/6ElMYJHzi061Pum...</td>\n",
       "    </tr>\n",
       "    <tr>\n",
       "      <th>2</th>\n",
       "      <td>Depeche Mode</td>\n",
       "      <td>Useless</td>\n",
       "      <td>Well it's about time  \\r\\nIt's beginning to hu...</td>\n",
       "      <td>https://open.spotify.com/track/60vm3kzy05kKvoo...</td>\n",
       "    </tr>\n",
       "    <tr>\n",
       "      <th>3</th>\n",
       "      <td>Hillsong United</td>\n",
       "      <td>Always</td>\n",
       "      <td>Did You rise the sun for me?  \\r\\nOr paint a m...</td>\n",
       "      <td>https://open.spotify.com/track/6gOW2gCtduAUAW1...</td>\n",
       "    </tr>\n",
       "    <tr>\n",
       "      <th>4</th>\n",
       "      <td>Eric Clapton</td>\n",
       "      <td>Everybody Oughta Make A Change</td>\n",
       "      <td>Change in the weather, change in the sea,  \\r\\...</td>\n",
       "      <td>https://open.spotify.com/track/6SPYLDLRgOBOpt7...</td>\n",
       "    </tr>\n",
       "    <tr>\n",
       "      <th>5</th>\n",
       "      <td>Fiona Apple</td>\n",
       "      <td>Frosty The Snowman</td>\n",
       "      <td>Frosty the Snowman  \\r\\nWas a jolly happy soul...</td>\n",
       "      <td>https://open.spotify.com/track/732qfVoTwzKNDTG...</td>\n",
       "    </tr>\n",
       "    <tr>\n",
       "      <th>6</th>\n",
       "      <td>Air Supply</td>\n",
       "      <td>Faith</td>\n",
       "      <td>Easy come and easy go  \\r\\nHard to get a hold ...</td>\n",
       "      <td>https://open.spotify.com/track/1JrMqZwLPARTkhM...</td>\n",
       "    </tr>\n",
       "    <tr>\n",
       "      <th>7</th>\n",
       "      <td>Bon Jovi</td>\n",
       "      <td>It's Just Me</td>\n",
       "      <td>J. Bon jovi  \\r\\n  \\r\\nYou know your favorite ...</td>\n",
       "      <td>https://open.spotify.com/track/3kgHkA4NpKF2tk3...</td>\n",
       "    </tr>\n",
       "    <tr>\n",
       "      <th>8</th>\n",
       "      <td>Johnny Cash</td>\n",
       "      <td>Give My Love To Rose</td>\n",
       "      <td>I found him by the railroad track this morning...</td>\n",
       "      <td>https://open.spotify.com/track/3Prk96Esj2yy7RH...</td>\n",
       "    </tr>\n",
       "    <tr>\n",
       "      <th>9</th>\n",
       "      <td>Hollies</td>\n",
       "      <td>Memphis</td>\n",
       "      <td>Long distance information give me Memphis Tenn...</td>\n",
       "      <td>https://open.spotify.com/track/0GsL6Zh15aS3OqK...</td>\n",
       "    </tr>\n",
       "  </tbody>\n",
       "</table>\n",
       "</div>"
      ],
      "text/plain": [
       "            artist                            song  \\\n",
       "0          Hollies                 Hard, Hard Year   \n",
       "1             Enya                It's In The Rain   \n",
       "2     Depeche Mode                         Useless   \n",
       "3  Hillsong United                          Always   \n",
       "4     Eric Clapton  Everybody Oughta Make A Change   \n",
       "5      Fiona Apple              Frosty The Snowman   \n",
       "6       Air Supply                           Faith   \n",
       "7         Bon Jovi                    It's Just Me   \n",
       "8      Johnny Cash            Give My Love To Rose   \n",
       "9          Hollies                         Memphis   \n",
       "\n",
       "                                                text  \\\n",
       "0  Bad times, something's wrong  \\r\\nMoney's gone...   \n",
       "1  Every time the rain comes down  \\r\\nI close my...   \n",
       "2  Well it's about time  \\r\\nIt's beginning to hu...   \n",
       "3  Did You rise the sun for me?  \\r\\nOr paint a m...   \n",
       "4  Change in the weather, change in the sea,  \\r\\...   \n",
       "5  Frosty the Snowman  \\r\\nWas a jolly happy soul...   \n",
       "6  Easy come and easy go  \\r\\nHard to get a hold ...   \n",
       "7  J. Bon jovi  \\r\\n  \\r\\nYou know your favorite ...   \n",
       "8  I found him by the railroad track this morning...   \n",
       "9  Long distance information give me Memphis Tenn...   \n",
       "\n",
       "                                        spotify_link  \n",
       "0  https://open.spotify.com/track/37F5sqBFAA6Mln1...  \n",
       "1  https://open.spotify.com/track/6ElMYJHzi061Pum...  \n",
       "2  https://open.spotify.com/track/60vm3kzy05kKvoo...  \n",
       "3  https://open.spotify.com/track/6gOW2gCtduAUAW1...  \n",
       "4  https://open.spotify.com/track/6SPYLDLRgOBOpt7...  \n",
       "5  https://open.spotify.com/track/732qfVoTwzKNDTG...  \n",
       "6  https://open.spotify.com/track/1JrMqZwLPARTkhM...  \n",
       "7  https://open.spotify.com/track/3kgHkA4NpKF2tk3...  \n",
       "8  https://open.spotify.com/track/3Prk96Esj2yy7RH...  \n",
       "9  https://open.spotify.com/track/0GsL6Zh15aS3OqK...  "
      ]
     },
     "execution_count": 52,
     "metadata": {},
     "output_type": "execute_result"
    }
   ],
   "source": [
    "df.head(10)"
   ]
  },
  {
   "cell_type": "code",
   "execution_count": 53,
   "id": "3bb2b0c3-56db-4722-9e6a-f0a6fca8ff86",
   "metadata": {},
   "outputs": [
    {
     "data": {
      "text/plain": [
       "\"Bad times, something's wrong  \\r\\nMoney's gone, I'm on my own  \\r\\nCan't stay, there's nothing here  \\r\\nIt's been a hard, hard year  \\r\\n  \\r\\nFirst month, snows came  \\r\\nPut me in bed, couldn't work the same  \\r\\nJob's gone, bills are here  \\r\\nBeen a hard, hard year  \\r\\n  \\r\\nI look on the bad side of life  \\r\\nI lose heart then I want to die  \\r\\nSo I've got to get back on my feet  \\r\\nAnd prove to myself I'm a man  \\r\\n  \\r\\nI hope that the bad times are gone  \\r\\nIt's been work, but I think that I've won  \\r\\nNow I'm happy  \\r\\nAnd I'll never be that way again  \\r\\nNo, I'll never be that way again  \\r\\n  \\r\\nSnow's gone, spring's here  \\r\\nWon't happen twice, I've seen my way clear  \\r\\nEveryone's paid, got no one to fear  \\r\\nBeen a hard, hard year\\r\\n\\r\\n\""
      ]
     },
     "execution_count": 53,
     "metadata": {},
     "output_type": "execute_result"
    }
   ],
   "source": [
    "df['text'][0]"
   ]
  },
  {
   "cell_type": "code",
   "execution_count": 54,
   "id": "96bb5f9e-88bd-4c21-9948-dfd0acec0417",
   "metadata": {},
   "outputs": [],
   "source": [
    "df=df.sample(5000)"
   ]
  },
  {
   "cell_type": "code",
   "execution_count": 55,
   "id": "3469d161-35a3-4104-b83c-4b151891d2f0",
   "metadata": {},
   "outputs": [
    {
     "data": {
      "text/plain": [
       "(5000, 4)"
      ]
     },
     "execution_count": 55,
     "metadata": {},
     "output_type": "execute_result"
    }
   ],
   "source": [
    "df.shape"
   ]
  },
  {
   "cell_type": "markdown",
   "id": "b0814d11-eeea-4ca4-9351-58946c40031c",
   "metadata": {},
   "source": [
    "text cleaning/ Text preprocessing"
   ]
  },
  {
   "cell_type": "code",
   "execution_count": 56,
   "id": "61105f74-96ef-4d65-8538-ae8b0ffb6a0f",
   "metadata": {},
   "outputs": [],
   "source": [
    "df['text'] = df[\"text\"].str.lower().replace(r'^\\w\\s', ' ').replace(r'\\n', ' ', regex = True)"
   ]
  },
  {
   "cell_type": "code",
   "execution_count": 57,
   "id": "3db9a2f8-44a2-4e0b-980d-d07b0e849115",
   "metadata": {},
   "outputs": [
    {
     "data": {
      "text/html": [
       "<div>\n",
       "<style scoped>\n",
       "    .dataframe tbody tr th:only-of-type {\n",
       "        vertical-align: middle;\n",
       "    }\n",
       "\n",
       "    .dataframe tbody tr th {\n",
       "        vertical-align: top;\n",
       "    }\n",
       "\n",
       "    .dataframe thead th {\n",
       "        text-align: right;\n",
       "    }\n",
       "</style>\n",
       "<table border=\"1\" class=\"dataframe\">\n",
       "  <thead>\n",
       "    <tr style=\"text-align: right;\">\n",
       "      <th></th>\n",
       "      <th>artist</th>\n",
       "      <th>song</th>\n",
       "      <th>text</th>\n",
       "      <th>spotify_link</th>\n",
       "    </tr>\n",
       "  </thead>\n",
       "  <tbody>\n",
       "    <tr>\n",
       "      <th>1379</th>\n",
       "      <td>Dolly Parton</td>\n",
       "      <td>Chicken Every Sunday</td>\n",
       "      <td>just because all my dresses are just cotton ha...</td>\n",
       "      <td>https://open.spotify.com/track/6uKHIrBnt6YBAWc...</td>\n",
       "    </tr>\n",
       "    <tr>\n",
       "      <th>3172</th>\n",
       "      <td>Chaka Khan</td>\n",
       "      <td>Teach Me Tonight</td>\n",
       "      <td>did you say that i've got a lot to learn  \\r w...</td>\n",
       "      <td>https://open.spotify.com/track/4bcahnUcrocwGoR...</td>\n",
       "    </tr>\n",
       "    <tr>\n",
       "      <th>4096</th>\n",
       "      <td>Conway Twitty</td>\n",
       "      <td>Faded Love</td>\n",
       "      <td>as i look at the letters that you wrote to me ...</td>\n",
       "      <td>https://open.spotify.com/track/4C6gpG6P3ds4bXs...</td>\n",
       "    </tr>\n",
       "    <tr>\n",
       "      <th>4043</th>\n",
       "      <td>Johnny Cash</td>\n",
       "      <td>God Will</td>\n",
       "      <td>god will walk with me down streets where no on...</td>\n",
       "      <td>https://open.spotify.com/track/6jXPZid0KLorvgI...</td>\n",
       "    </tr>\n",
       "    <tr>\n",
       "      <th>1897</th>\n",
       "      <td>Christina Aguilera</td>\n",
       "      <td>This Christmas</td>\n",
       "      <td>hang all the mistletoe  \\r i'm gonna get to kn...</td>\n",
       "      <td>https://open.spotify.com/track/32h59T8q2SonUPJ...</td>\n",
       "    </tr>\n",
       "    <tr>\n",
       "      <th>...</th>\n",
       "      <td>...</td>\n",
       "      <td>...</td>\n",
       "      <td>...</td>\n",
       "      <td>...</td>\n",
       "    </tr>\n",
       "    <tr>\n",
       "      <th>1309</th>\n",
       "      <td>Boney M.</td>\n",
       "      <td>Living Like A Moviestar</td>\n",
       "      <td>they got the luxury money can buy  \\r they're ...</td>\n",
       "      <td>https://open.spotify.com/track/1zrOQAfCpe2Nejy...</td>\n",
       "    </tr>\n",
       "    <tr>\n",
       "      <th>3435</th>\n",
       "      <td>Gino Vannelli</td>\n",
       "      <td>Here She Comes</td>\n",
       "      <td>here she comes the ghost of venus de milo  \\r ...</td>\n",
       "      <td>NaN</td>\n",
       "    </tr>\n",
       "    <tr>\n",
       "      <th>1806</th>\n",
       "      <td>Dean Martin</td>\n",
       "      <td>It's A Good Day</td>\n",
       "      <td>yes, it's a good day for singin' a song,  \\r a...</td>\n",
       "      <td>https://open.spotify.com/track/4EXlJ0ggDFwOZ2S...</td>\n",
       "    </tr>\n",
       "    <tr>\n",
       "      <th>2299</th>\n",
       "      <td>Imagine Dragons</td>\n",
       "      <td>I'm So Sorry</td>\n",
       "      <td>about time for anyone telling you off for all ...</td>\n",
       "      <td>https://open.spotify.com/track/7oTQ4d0UJeH8LOy...</td>\n",
       "    </tr>\n",
       "    <tr>\n",
       "      <th>4315</th>\n",
       "      <td>Eddie Cochran</td>\n",
       "      <td>One Minute To One</td>\n",
       "      <td>one minute to one, and you gotta go home  \\r a...</td>\n",
       "      <td>https://open.spotify.com/track/6TejnJwuT5yneCY...</td>\n",
       "    </tr>\n",
       "  </tbody>\n",
       "</table>\n",
       "<p>5000 rows × 4 columns</p>\n",
       "</div>"
      ],
      "text/plain": [
       "                  artist                     song  \\\n",
       "1379        Dolly Parton     Chicken Every Sunday   \n",
       "3172          Chaka Khan         Teach Me Tonight   \n",
       "4096       Conway Twitty               Faded Love   \n",
       "4043         Johnny Cash                 God Will   \n",
       "1897  Christina Aguilera           This Christmas   \n",
       "...                  ...                      ...   \n",
       "1309            Boney M.  Living Like A Moviestar   \n",
       "3435       Gino Vannelli           Here She Comes   \n",
       "1806         Dean Martin          It's A Good Day   \n",
       "2299     Imagine Dragons             I'm So Sorry   \n",
       "4315       Eddie Cochran        One Minute To One   \n",
       "\n",
       "                                                   text  \\\n",
       "1379  just because all my dresses are just cotton ha...   \n",
       "3172  did you say that i've got a lot to learn  \\r w...   \n",
       "4096  as i look at the letters that you wrote to me ...   \n",
       "4043  god will walk with me down streets where no on...   \n",
       "1897  hang all the mistletoe  \\r i'm gonna get to kn...   \n",
       "...                                                 ...   \n",
       "1309  they got the luxury money can buy  \\r they're ...   \n",
       "3435  here she comes the ghost of venus de milo  \\r ...   \n",
       "1806  yes, it's a good day for singin' a song,  \\r a...   \n",
       "2299  about time for anyone telling you off for all ...   \n",
       "4315  one minute to one, and you gotta go home  \\r a...   \n",
       "\n",
       "                                           spotify_link  \n",
       "1379  https://open.spotify.com/track/6uKHIrBnt6YBAWc...  \n",
       "3172  https://open.spotify.com/track/4bcahnUcrocwGoR...  \n",
       "4096  https://open.spotify.com/track/4C6gpG6P3ds4bXs...  \n",
       "4043  https://open.spotify.com/track/6jXPZid0KLorvgI...  \n",
       "1897  https://open.spotify.com/track/32h59T8q2SonUPJ...  \n",
       "...                                                 ...  \n",
       "1309  https://open.spotify.com/track/1zrOQAfCpe2Nejy...  \n",
       "3435                                                NaN  \n",
       "1806  https://open.spotify.com/track/4EXlJ0ggDFwOZ2S...  \n",
       "2299  https://open.spotify.com/track/7oTQ4d0UJeH8LOy...  \n",
       "4315  https://open.spotify.com/track/6TejnJwuT5yneCY...  \n",
       "\n",
       "[5000 rows x 4 columns]"
      ]
     },
     "execution_count": 57,
     "metadata": {},
     "output_type": "execute_result"
    }
   ],
   "source": [
    "df"
   ]
  },
  {
   "cell_type": "code",
   "execution_count": 58,
   "id": "372fdd13-90ee-46c5-adbd-a0f1dc6347e7",
   "metadata": {},
   "outputs": [
    {
     "data": {
      "text/html": [
       "<div>\n",
       "<style scoped>\n",
       "    .dataframe tbody tr th:only-of-type {\n",
       "        vertical-align: middle;\n",
       "    }\n",
       "\n",
       "    .dataframe tbody tr th {\n",
       "        vertical-align: top;\n",
       "    }\n",
       "\n",
       "    .dataframe thead th {\n",
       "        text-align: right;\n",
       "    }\n",
       "</style>\n",
       "<table border=\"1\" class=\"dataframe\">\n",
       "  <thead>\n",
       "    <tr style=\"text-align: right;\">\n",
       "      <th></th>\n",
       "      <th>artist</th>\n",
       "      <th>song</th>\n",
       "      <th>text</th>\n",
       "      <th>spotify_link</th>\n",
       "    </tr>\n",
       "  </thead>\n",
       "  <tbody>\n",
       "    <tr>\n",
       "      <th>1309</th>\n",
       "      <td>Boney M.</td>\n",
       "      <td>Living Like A Moviestar</td>\n",
       "      <td>they got the luxury money can buy  \\r they're ...</td>\n",
       "      <td>https://open.spotify.com/track/1zrOQAfCpe2Nejy...</td>\n",
       "    </tr>\n",
       "    <tr>\n",
       "      <th>3435</th>\n",
       "      <td>Gino Vannelli</td>\n",
       "      <td>Here She Comes</td>\n",
       "      <td>here she comes the ghost of venus de milo  \\r ...</td>\n",
       "      <td>NaN</td>\n",
       "    </tr>\n",
       "    <tr>\n",
       "      <th>1806</th>\n",
       "      <td>Dean Martin</td>\n",
       "      <td>It's A Good Day</td>\n",
       "      <td>yes, it's a good day for singin' a song,  \\r a...</td>\n",
       "      <td>https://open.spotify.com/track/4EXlJ0ggDFwOZ2S...</td>\n",
       "    </tr>\n",
       "    <tr>\n",
       "      <th>2299</th>\n",
       "      <td>Imagine Dragons</td>\n",
       "      <td>I'm So Sorry</td>\n",
       "      <td>about time for anyone telling you off for all ...</td>\n",
       "      <td>https://open.spotify.com/track/7oTQ4d0UJeH8LOy...</td>\n",
       "    </tr>\n",
       "    <tr>\n",
       "      <th>4315</th>\n",
       "      <td>Eddie Cochran</td>\n",
       "      <td>One Minute To One</td>\n",
       "      <td>one minute to one, and you gotta go home  \\r a...</td>\n",
       "      <td>https://open.spotify.com/track/6TejnJwuT5yneCY...</td>\n",
       "    </tr>\n",
       "  </tbody>\n",
       "</table>\n",
       "</div>"
      ],
      "text/plain": [
       "               artist                     song  \\\n",
       "1309         Boney M.  Living Like A Moviestar   \n",
       "3435    Gino Vannelli           Here She Comes   \n",
       "1806      Dean Martin          It's A Good Day   \n",
       "2299  Imagine Dragons             I'm So Sorry   \n",
       "4315    Eddie Cochran        One Minute To One   \n",
       "\n",
       "                                                   text  \\\n",
       "1309  they got the luxury money can buy  \\r they're ...   \n",
       "3435  here she comes the ghost of venus de milo  \\r ...   \n",
       "1806  yes, it's a good day for singin' a song,  \\r a...   \n",
       "2299  about time for anyone telling you off for all ...   \n",
       "4315  one minute to one, and you gotta go home  \\r a...   \n",
       "\n",
       "                                           spotify_link  \n",
       "1309  https://open.spotify.com/track/1zrOQAfCpe2Nejy...  \n",
       "3435                                                NaN  \n",
       "1806  https://open.spotify.com/track/4EXlJ0ggDFwOZ2S...  \n",
       "2299  https://open.spotify.com/track/7oTQ4d0UJeH8LOy...  \n",
       "4315  https://open.spotify.com/track/6TejnJwuT5yneCY...  "
      ]
     },
     "execution_count": 58,
     "metadata": {},
     "output_type": "execute_result"
    }
   ],
   "source": [
    "df.tail(5)"
   ]
  },
  {
   "cell_type": "code",
   "execution_count": 59,
   "id": "c02a3110-4f3c-44c8-a0c4-faac4aad8540",
   "metadata": {},
   "outputs": [
    {
     "name": "stdout",
     "output_type": "stream",
     "text": [
      "Requirement already satisfied: nltk in c:\\users\\krushna sonawane\\appdata\\local\\programs\\python\\python38\\lib\\site-packages (3.9.1)\n",
      "Requirement already satisfied: click in c:\\users\\krushna sonawane\\appdata\\local\\programs\\python\\python38\\lib\\site-packages (from nltk) (8.1.8)\n",
      "Requirement already satisfied: joblib in c:\\users\\krushna sonawane\\appdata\\local\\programs\\python\\python38\\lib\\site-packages (from nltk) (1.4.2)\n",
      "Requirement already satisfied: regex>=2021.8.3 in c:\\users\\krushna sonawane\\appdata\\local\\programs\\python\\python38\\lib\\site-packages (from nltk) (2024.11.6)\n",
      "Requirement already satisfied: tqdm in c:\\users\\krushna sonawane\\appdata\\local\\programs\\python\\python38\\lib\\site-packages (from nltk) (4.67.1)\n",
      "Requirement already satisfied: colorama in c:\\users\\krushna sonawane\\appdata\\local\\programs\\python\\python38\\lib\\site-packages (from click->nltk) (0.4.6)\n"
     ]
    }
   ],
   "source": [
    "!pip install nltk\n"
   ]
  },
  {
   "cell_type": "code",
   "execution_count": 60,
   "id": "dfeddb02-0635-47f1-bd6e-e65d595060cd",
   "metadata": {},
   "outputs": [
    {
     "name": "stdout",
     "output_type": "stream",
     "text": [
      "NLTK is successfully installed!\n"
     ]
    }
   ],
   "source": [
    "import nltk\n",
    "print(\"NLTK is successfully installed!\")\n"
   ]
  },
  {
   "cell_type": "code",
   "execution_count": 61,
   "id": "0013b602-d5d3-49a6-8c12-000c4162433d",
   "metadata": {},
   "outputs": [
    {
     "name": "stdout",
     "output_type": "stream",
     "text": [
      "Requirement already satisfied: pip in c:\\users\\krushna sonawane\\appdata\\local\\programs\\python\\python38\\lib\\site-packages (25.0.1)\n"
     ]
    }
   ],
   "source": [
    "!python -m pip install --upgrade pip\n"
   ]
  },
  {
   "cell_type": "code",
   "execution_count": 62,
   "id": "7be01627-cbda-4bfd-8465-2fbad30e49fb",
   "metadata": {},
   "outputs": [
    {
     "name": "stdout",
     "output_type": "stream",
     "text": [
      "Requirement already satisfied: nltk in c:\\users\\krushna sonawane\\appdata\\local\\programs\\python\\python38\\lib\\site-packages (3.9.1)\n",
      "Requirement already satisfied: click in c:\\users\\krushna sonawane\\appdata\\local\\programs\\python\\python38\\lib\\site-packages (from nltk) (8.1.8)\n",
      "Requirement already satisfied: joblib in c:\\users\\krushna sonawane\\appdata\\local\\programs\\python\\python38\\lib\\site-packages (from nltk) (1.4.2)\n",
      "Requirement already satisfied: regex>=2021.8.3 in c:\\users\\krushna sonawane\\appdata\\local\\programs\\python\\python38\\lib\\site-packages (from nltk) (2024.11.6)\n",
      "Requirement already satisfied: tqdm in c:\\users\\krushna sonawane\\appdata\\local\\programs\\python\\python38\\lib\\site-packages (from nltk) (4.67.1)\n",
      "Requirement already satisfied: colorama in c:\\users\\krushna sonawane\\appdata\\local\\programs\\python\\python38\\lib\\site-packages (from click->nltk) (0.4.6)\n"
     ]
    }
   ],
   "source": [
    "!pip install nltk\n"
   ]
  },
  {
   "cell_type": "code",
   "execution_count": 63,
   "id": "967e167a-60b6-4eab-a13f-16f66de65d31",
   "metadata": {},
   "outputs": [
    {
     "name": "stdout",
     "output_type": "stream",
     "text": [
      "Name: nltk\n",
      "Version: 3.9.1\n",
      "Summary: Natural Language Toolkit\n",
      "Home-page: https://www.nltk.org/\n",
      "Author: NLTK Team\n",
      "Author-email: nltk.team@gmail.com\n",
      "License: Apache License, Version 2.0\n",
      "Location: c:\\users\\krushna sonawane\\appdata\\local\\programs\\python\\python38\\lib\\site-packages\n",
      "Requires: click, joblib, regex, tqdm\n",
      "Required-by: \n"
     ]
    }
   ],
   "source": [
    "!pip show nltk\n"
   ]
  },
  {
   "cell_type": "code",
   "execution_count": 64,
   "id": "c1e75d59-4730-41a5-a96c-ec6d6f4bcfa2",
   "metadata": {},
   "outputs": [],
   "source": [
    "import nltk\n",
    "from nltk.stem.porter import PorterStemmer\n"
   ]
  },
  {
   "cell_type": "code",
   "execution_count": 65,
   "id": "de6fe3f9-a862-43f3-b38d-7330ca880d74",
   "metadata": {},
   "outputs": [],
   "source": [
    "stemmer = PorterStemmer()"
   ]
  },
  {
   "cell_type": "code",
   "execution_count": 66,
   "id": "5f45e5c1-dab9-4207-b5df-21b7de629ba1",
   "metadata": {},
   "outputs": [],
   "source": [
    "def token(txt):\n",
    "    token = nltk.word_tokenize(txt)\n",
    "    [Stemmer .steam(w) for w in token]\n",
    "    return \" \" .join(a)"
   ]
  },
  {
   "cell_type": "code",
   "execution_count": 67,
   "id": "db17102b-83d3-47f6-87ef-6a2b7e9ea7d2",
   "metadata": {},
   "outputs": [
    {
     "name": "stdout",
     "output_type": "stream",
     "text": [
      "showing info https://raw.githubusercontent.com/nltk/nltk_data/gh-pages/index.xml\n"
     ]
    },
    {
     "data": {
      "text/plain": [
       "True"
      ]
     },
     "execution_count": 67,
     "metadata": {},
     "output_type": "execute_result"
    }
   ],
   "source": [
    "import nltk\n",
    "nltk.download()\n"
   ]
  },
  {
   "cell_type": "code",
   "execution_count": 68,
   "id": "2658c370-0e90-4707-bc00-9c0a9c1ad140",
   "metadata": {},
   "outputs": [
    {
     "name": "stdout",
     "output_type": "stream",
     "text": [
      "['You', 'are', 'beautiful', ',', 'beauty']\n"
     ]
    }
   ],
   "source": [
    "from nltk.tokenize import word_tokenize\n",
    "print(word_tokenize(\"You are beautiful, beauty\"))\n"
   ]
  },
  {
   "cell_type": "code",
   "execution_count": 69,
   "id": "531ed7dd-6676-4989-bd52-95901b8f94bf",
   "metadata": {},
   "outputs": [
    {
     "name": "stderr",
     "output_type": "stream",
     "text": [
      "[nltk_data] Downloading package punkt to C:\\Users\\krushna\n",
      "[nltk_data]     sonawane/nltk_data...\n",
      "[nltk_data]   Package punkt is already up-to-date!\n"
     ]
    },
    {
     "data": {
      "text/plain": [
       "True"
      ]
     },
     "execution_count": 69,
     "metadata": {},
     "output_type": "execute_result"
    }
   ],
   "source": [
    "import nltk\n",
    "nltk.download('punkt')\n"
   ]
  },
  {
   "cell_type": "code",
   "execution_count": 73,
   "id": "e80b309d-cc61-4b30-bc5f-fc11d699ca18",
   "metadata": {},
   "outputs": [
    {
     "name": "stdout",
     "output_type": "stream",
     "text": [
      "['C:\\\\Users\\\\krushna sonawane/nltk_data', 'c:\\\\users\\\\krushna sonawane\\\\appdata\\\\local\\\\programs\\\\python\\\\python38\\\\nltk_data', 'c:\\\\users\\\\krushna sonawane\\\\appdata\\\\local\\\\programs\\\\python\\\\python38\\\\share\\\\nltk_data', 'c:\\\\users\\\\krushna sonawane\\\\appdata\\\\local\\\\programs\\\\python\\\\python38\\\\lib\\\\nltk_data', 'C:\\\\Users\\\\krushna sonawane\\\\AppData\\\\Roaming\\\\nltk_data', 'C:\\\\nltk_data', 'D:\\\\nltk_data', 'E:\\\\nltk_data', 'C:\\\\Users\\\\krushna sonawane\\\\nltk_data\\\\tokenizers\\\\punkt', 'C:\\\\Users\\\\krushna sonawane\\\\nltk_data\\\\tokenizers\\\\punkt', 'C:\\\\Users\\\\krushna sonawane\\\\nltk_data\\\\tokenizers\\\\punkt']\n",
      "['You', 'are', 'beautiful', ',', 'beauty']\n"
     ]
    },
    {
     "name": "stderr",
     "output_type": "stream",
     "text": [
      "[nltk_data] Downloading package punkt to C:\\Users\\krushna\n",
      "[nltk_data]     sonawane/nltk_data...\n",
      "[nltk_data]   Package punkt is already up-to-date!\n"
     ]
    }
   ],
   "source": [
    "import nltk\n",
    "\n",
    "#nltk_data path\n",
    "nltk.data.path.append(r'C:\\Users\\krushna sonawane\\nltk_data\\tokenizers\\punkt')\n",
    "\n",
    "print(nltk.data.path)\n",
    "\n",
    "nltk.download('punkt')\n",
    "\n",
    "\n",
    "from nltk.tokenize import word_tokenize\n",
    "print(word_tokenize(\"You are beautiful, beauty\"))\n"
   ]
  },
  {
   "cell_type": "code",
   "execution_count": 74,
   "id": "636b4923-25c8-4f7b-bd5e-c01595caf303",
   "metadata": {},
   "outputs": [
    {
     "name": "stderr",
     "output_type": "stream",
     "text": [
      "[nltk_data] Downloading package punkt_tab to C:\\Users\\krushna\n",
      "[nltk_data]     sonawane/nltk_data...\n",
      "[nltk_data]   Package punkt_tab is already up-to-date!\n"
     ]
    },
    {
     "data": {
      "text/plain": [
       "True"
      ]
     },
     "execution_count": 74,
     "metadata": {},
     "output_type": "execute_result"
    }
   ],
   "source": [
    "import nltk\n",
    "nltk.download('punkt_tab')"
   ]
  },
  {
   "cell_type": "code",
   "execution_count": 75,
   "id": "ffdfa530-8ed0-4fce-9323-ef8dc450325a",
   "metadata": {},
   "outputs": [
    {
     "name": "stdout",
     "output_type": "stream",
     "text": [
      "punkt folder not found, skipping delete...\n"
     ]
    },
    {
     "name": "stderr",
     "output_type": "stream",
     "text": [
      "[nltk_data] Downloading package punkt to C:\\Users\\krushna\n",
      "[nltk_data]     sonawane/nltk_data...\n",
      "[nltk_data]   Package punkt is already up-to-date!\n"
     ]
    },
    {
     "data": {
      "text/plain": [
       "True"
      ]
     },
     "execution_count": 75,
     "metadata": {},
     "output_type": "execute_result"
    }
   ],
   "source": [
    "import os\n",
    "import shutil\n",
    "import nltk\n",
    "\n",
    "nltk_path = r'C:\\Users\\krushna sonawane\\nltk_data\\tokenizers\\punkt'\n",
    "\n",
    "if os.path.exists(nltk_path):\n",
    "    shutil.rmtree(nltk_path)\n",
    "    print(\"Old punkt deleted.\")\n",
    "else:\n",
    "    print(\"punkt folder not found, skipping delete...\")\n",
    "\n",
    "\n",
    "nltk.download('punkt')\n",
    "\n"
   ]
  },
  {
   "cell_type": "code",
   "execution_count": 77,
   "id": "08ecf1dc-fa0e-4cb6-88ce-89fedf579fe7",
   "metadata": {},
   "outputs": [],
   "source": [
    "import nltk\n",
    "nltk.data.path.append(r'C:\\Users\\krushna sonawane\\nltk_data')\n"
   ]
  },
  {
   "cell_type": "code",
   "execution_count": 78,
   "id": "d05a59f1-571e-47dd-8abb-0d8f7776522d",
   "metadata": {},
   "outputs": [
    {
     "name": "stdout",
     "output_type": "stream",
     "text": [
      "['You', 'are', 'beautiful', ',', 'beauty']\n"
     ]
    }
   ],
   "source": [
    "from nltk.tokenize import word_tokenize\n",
    "print(word_tokenize(\"You are beautiful, beauty\"))\n"
   ]
  },
  {
   "cell_type": "code",
   "execution_count": 79,
   "id": "d042a192-3545-44c1-bd5e-05e4b1f34fcb",
   "metadata": {},
   "outputs": [
    {
     "name": "stdout",
     "output_type": "stream",
     "text": [
      "Requirement already satisfied: scikit-learn in c:\\users\\krushna sonawane\\appdata\\local\\programs\\python\\python38\\lib\\site-packages (1.3.2)\n",
      "Requirement already satisfied: numpy<2.0,>=1.17.3 in c:\\users\\krushna sonawane\\appdata\\local\\programs\\python\\python38\\lib\\site-packages (from scikit-learn) (1.24.3)\n",
      "Requirement already satisfied: scipy>=1.5.0 in c:\\users\\krushna sonawane\\appdata\\local\\programs\\python\\python38\\lib\\site-packages (from scikit-learn) (1.10.1)\n",
      "Requirement already satisfied: joblib>=1.1.1 in c:\\users\\krushna sonawane\\appdata\\local\\programs\\python\\python38\\lib\\site-packages (from scikit-learn) (1.4.2)\n",
      "Requirement already satisfied: threadpoolctl>=2.0.0 in c:\\users\\krushna sonawane\\appdata\\local\\programs\\python\\python38\\lib\\site-packages (from scikit-learn) (3.5.0)\n",
      "Note: you may need to restart the kernel to use updated packages.\n"
     ]
    }
   ],
   "source": [
    "pip install scikit-learn\n"
   ]
  },
  {
   "cell_type": "code",
   "execution_count": 80,
   "id": "5c29c989-46fb-47c9-b7cb-59d48c68fec7",
   "metadata": {},
   "outputs": [
    {
     "name": "stdout",
     "output_type": "stream",
     "text": [
      "1.3.2\n"
     ]
    }
   ],
   "source": [
    "import sklearn\n",
    "print(sklearn.__version__)\n"
   ]
  },
  {
   "cell_type": "code",
   "execution_count": 84,
   "id": "154da729-0a5d-4557-8082-b27ec09e93be",
   "metadata": {},
   "outputs": [],
   "source": [
    "df['text'] = df['text'].astype(str)\n"
   ]
  },
  {
   "cell_type": "code",
   "execution_count": 85,
   "id": "974d4827-9a4c-4dd5-b849-ad26a28fbabb",
   "metadata": {},
   "outputs": [],
   "source": [
    "import nltk\n",
    "from nltk.tokenize import word_tokenize\n",
    "from nltk.stem import PorterStemmer\n",
    "\n",
    "# Initialize stemmer\n",
    "ps = PorterStemmer()\n",
    "\n",
    "# Define tokenization + stemming function\n",
    "def token(txt):\n",
    "    tokens = word_tokenize(txt)  # Tokenize\n",
    "    stemmed = [ps.stem(w) for w in tokens]  \n",
    "    return \" \".join(stemmed)  \n",
    "\n",
    "\n",
    "df['text'] = df['text'].apply(lambda x: token(x))\n"
   ]
  },
  {
   "cell_type": "code",
   "execution_count": 86,
   "id": "ef363e1a-cf0a-4c3f-81f1-2da9baf9e8fa",
   "metadata": {},
   "outputs": [],
   "source": [
    "from sklearn.feature_extraction.text import TfidfVectorizer\n",
    "from sklearn.metrics.pairwise import cosine_similarity\n"
   ]
  },
  {
   "cell_type": "code",
   "execution_count": 87,
   "id": "871ad09c-4881-46f0-93e9-abaa6512e8f0",
   "metadata": {},
   "outputs": [],
   "source": [
    "import nltk\n",
    "from nltk.stem import PorterStemmer\n",
    "from nltk.tokenize import word_tokenize\n",
    "\n",
    "# Create a stemmer object\n",
    "stemmer = PorterStemmer()\n",
    "\n",
    "# Define the token function\n",
    "def token(txt):\n",
    "    # Tokenize the text\n",
    "    tokens = word_tokenize(txt)\n",
    "   \n",
    "    stemmed_words = [stemmer.stem(w) for w in tokens]\n",
    "    \n",
    "    return \" \".join(stemmed_words)\n",
    "\n",
    "\n",
    "\n"
   ]
  },
  {
   "cell_type": "code",
   "execution_count": 88,
   "id": "221536ef-951f-426b-b941-3fe822912036",
   "metadata": {},
   "outputs": [],
   "source": [
    "tfid= TfidfVectorizer(analyzer='word', stop_words='english')"
   ]
  },
  {
   "cell_type": "code",
   "execution_count": 89,
   "id": "cee6d080-2a64-4052-9101-7e113a752abe",
   "metadata": {},
   "outputs": [],
   "source": [
    "matrix= tfid.fit_transform(df[\"text\"])"
   ]
  },
  {
   "cell_type": "code",
   "execution_count": 90,
   "id": "5b9f91dc-4e50-4ccd-9086-ae4bc233ea6c",
   "metadata": {},
   "outputs": [
    {
     "data": {
      "text/plain": [
       "<5000x17259 sparse matrix of type '<class 'numpy.float64'>'\n",
       "\twith 270684 stored elements in Compressed Sparse Row format>"
      ]
     },
     "execution_count": 90,
     "metadata": {},
     "output_type": "execute_result"
    }
   ],
   "source": [
    "matrix"
   ]
  },
  {
   "cell_type": "code",
   "execution_count": 94,
   "id": "0636f6f3-36db-4d1c-9f21-1b78f559b52b",
   "metadata": {},
   "outputs": [],
   "source": [
    "from sklearn.metrics.pairwise import cosine_similarity\n",
    "\n",
    "similar = cosine_similarity(matrix)\n"
   ]
  },
  {
   "cell_type": "code",
   "execution_count": 97,
   "id": "a0e56f47-cf68-42af-a1ba-baae64c2edb2",
   "metadata": {},
   "outputs": [
    {
     "data": {
      "text/plain": [
       "array([1.        , 0.02519809, 0.0791684 , ..., 0.09867451, 0.05202716,\n",
       "       0.07597569])"
      ]
     },
     "execution_count": 97,
     "metadata": {},
     "output_type": "execute_result"
    }
   ],
   "source": [
    "similar[0]"
   ]
  },
  {
   "cell_type": "code",
   "execution_count": 98,
   "id": "af42af1d-c196-402b-99cc-68fb250da9e8",
   "metadata": {},
   "outputs": [
    {
     "data": {
      "text/html": [
       "<div>\n",
       "<style scoped>\n",
       "    .dataframe tbody tr th:only-of-type {\n",
       "        vertical-align: middle;\n",
       "    }\n",
       "\n",
       "    .dataframe tbody tr th {\n",
       "        vertical-align: top;\n",
       "    }\n",
       "\n",
       "    .dataframe thead th {\n",
       "        text-align: right;\n",
       "    }\n",
       "</style>\n",
       "<table border=\"1\" class=\"dataframe\">\n",
       "  <thead>\n",
       "    <tr style=\"text-align: right;\">\n",
       "      <th></th>\n",
       "      <th>artist</th>\n",
       "      <th>song</th>\n",
       "      <th>text</th>\n",
       "      <th>spotify_link</th>\n",
       "    </tr>\n",
       "  </thead>\n",
       "  <tbody>\n",
       "  </tbody>\n",
       "</table>\n",
       "</div>"
      ],
      "text/plain": [
       "Empty DataFrame\n",
       "Columns: [artist, song, text, spotify_link]\n",
       "Index: []"
      ]
     },
     "execution_count": 98,
     "metadata": {},
     "output_type": "execute_result"
    }
   ],
   "source": [
    "df[df['song']==\" Ahe's My Kind Of Girl\"]"
   ]
  },
  {
   "cell_type": "code",
   "execution_count": 103,
   "id": "e5428f3c-ca3f-4c06-b7ed-df04a8dd9616",
   "metadata": {},
   "outputs": [
    {
     "data": {
      "text/html": [
       "<div>\n",
       "<style scoped>\n",
       "    .dataframe tbody tr th:only-of-type {\n",
       "        vertical-align: middle;\n",
       "    }\n",
       "\n",
       "    .dataframe tbody tr th {\n",
       "        vertical-align: top;\n",
       "    }\n",
       "\n",
       "    .dataframe thead th {\n",
       "        text-align: right;\n",
       "    }\n",
       "</style>\n",
       "<table border=\"1\" class=\"dataframe\">\n",
       "  <thead>\n",
       "    <tr style=\"text-align: right;\">\n",
       "      <th></th>\n",
       "      <th>artist</th>\n",
       "      <th>song</th>\n",
       "      <th>text</th>\n",
       "      <th>spotify_link</th>\n",
       "    </tr>\n",
       "  </thead>\n",
       "  <tbody>\n",
       "  </tbody>\n",
       "</table>\n",
       "</div>"
      ],
      "text/plain": [
       "Empty DataFrame\n",
       "Columns: [artist, song, text, spotify_link]\n",
       "Index: []"
      ]
     },
     "execution_count": 103,
     "metadata": {},
     "output_type": "execute_result"
    }
   ],
   "source": [
    "df[df['song'] == \"Ain't It Blue?\"]\n"
   ]
  },
  {
   "cell_type": "code",
   "execution_count": 107,
   "id": "37071b11-5b02-4a4b-b2c9-700dcf124c9b",
   "metadata": {},
   "outputs": [
    {
     "name": "stdout",
     "output_type": "stream",
     "text": [
      "Song not found in DataFrame!\n"
     ]
    }
   ],
   "source": [
    "song_name = \"Ain't It Blue?\"\n",
    "filtered_df = df[df['song'] == song_name]\n",
    "\n",
    "if not filtered_df.empty:\n",
    "    index = filtered_df.index[0]\n",
    "    print(f\"Index found: {index}\")\n",
    "else:\n",
    "    print(\"Song not found in DataFrame!\")\n"
   ]
  },
  {
   "cell_type": "code",
   "execution_count": 108,
   "id": "ed2ef464-4154-420e-a834-9fa75c1060a6",
   "metadata": {},
   "outputs": [
    {
     "name": "stdout",
     "output_type": "stream",
     "text": [
      "Song not found.\n"
     ]
    }
   ],
   "source": [
    "song_name = \"She's My Kind Of Girl\"  # Check spelling carefully\n",
    "\n",
    "filtered = df[df['song'].str.strip() == song_name]\n",
    "\n",
    "if not filtered.empty:\n",
    "    index = filtered.index[0]\n",
    "    print(\"Index:\", index)\n",
    "else:\n",
    "    print(\"Song not found.\")\n"
   ]
  },
  {
   "cell_type": "code",
   "execution_count": 109,
   "id": "a2c407c0-d1ce-4f04-9278-ecd48fa573a7",
   "metadata": {},
   "outputs": [
    {
     "data": {
      "text/html": [
       "<div>\n",
       "<style scoped>\n",
       "    .dataframe tbody tr th:only-of-type {\n",
       "        vertical-align: middle;\n",
       "    }\n",
       "\n",
       "    .dataframe tbody tr th {\n",
       "        vertical-align: top;\n",
       "    }\n",
       "\n",
       "    .dataframe thead th {\n",
       "        text-align: right;\n",
       "    }\n",
       "</style>\n",
       "<table border=\"1\" class=\"dataframe\">\n",
       "  <thead>\n",
       "    <tr style=\"text-align: right;\">\n",
       "      <th></th>\n",
       "      <th>artist</th>\n",
       "      <th>song</th>\n",
       "      <th>text</th>\n",
       "      <th>spotify_link</th>\n",
       "    </tr>\n",
       "  </thead>\n",
       "  <tbody>\n",
       "    <tr>\n",
       "      <th>4135</th>\n",
       "      <td>Bon Jovi</td>\n",
       "      <td>Bobby's Girl</td>\n",
       "      <td>i 'd give you my ring , i 'd fill you with pro...</td>\n",
       "      <td>NaN</td>\n",
       "    </tr>\n",
       "    <tr>\n",
       "      <th>3081</th>\n",
       "      <td>Iggy Pop</td>\n",
       "      <td>Girls</td>\n",
       "      <td>i love girl there all over thi world hah ! lik...</td>\n",
       "      <td>https://open.spotify.com/track/5Jwn7FaCOEvJmiW...</td>\n",
       "    </tr>\n",
       "    <tr>\n",
       "      <th>175</th>\n",
       "      <td>Dave Matthews Band</td>\n",
       "      <td>Joyful Girl</td>\n",
       "      <td>you do it for the joy it bring becaus you 're ...</td>\n",
       "      <td>NaN</td>\n",
       "    </tr>\n",
       "    <tr>\n",
       "      <th>2074</th>\n",
       "      <td>Christina Aguilera</td>\n",
       "      <td>My Girls</td>\n",
       "      <td>my girl wear lipstick while they 're make my b...</td>\n",
       "      <td>https://open.spotify.com/track/2GV6F4CrSMiLPDY...</td>\n",
       "    </tr>\n",
       "    <tr>\n",
       "      <th>1845</th>\n",
       "      <td>Janis Joplin</td>\n",
       "      <td>Little Girl Blue</td>\n",
       "      <td>sit there , hmm , count your finger . what els...</td>\n",
       "      <td>https://open.spotify.com/track/6tv6EVWMV7AIWi8...</td>\n",
       "    </tr>\n",
       "    <tr>\n",
       "      <th>...</th>\n",
       "      <td>...</td>\n",
       "      <td>...</td>\n",
       "      <td>...</td>\n",
       "      <td>...</td>\n",
       "    </tr>\n",
       "    <tr>\n",
       "      <th>3804</th>\n",
       "      <td>Avril Lavigne</td>\n",
       "      <td>One Of Those Girls</td>\n",
       "      <td>la la la , la la la la i know your kind of gir...</td>\n",
       "      <td>https://open.spotify.com/track/4Ib7GwWqc37GWVe...</td>\n",
       "    </tr>\n",
       "    <tr>\n",
       "      <th>3823</th>\n",
       "      <td>Conway Twitty</td>\n",
       "      <td>Bad Girl</td>\n",
       "      <td>she 's not a bad girl she 's just a sad girl p...</td>\n",
       "      <td>NaN</td>\n",
       "    </tr>\n",
       "    <tr>\n",
       "      <th>2203</th>\n",
       "      <td>Journey</td>\n",
       "      <td>Little Girl</td>\n",
       "      <td>it wa just the month of may , word got in my w...</td>\n",
       "      <td>https://open.spotify.com/track/4DEJkhYAhCTWfwl...</td>\n",
       "    </tr>\n",
       "    <tr>\n",
       "      <th>1305</th>\n",
       "      <td>Dusty Springfield</td>\n",
       "      <td>Mama's Little Girl</td>\n",
       "      <td>took the ribbon from my hair and i 'm let it a...</td>\n",
       "      <td>https://open.spotify.com/track/5llY2OyxPgQpQQJ...</td>\n",
       "    </tr>\n",
       "    <tr>\n",
       "      <th>2644</th>\n",
       "      <td>Barbie</td>\n",
       "      <td>I Am A Girl Like You</td>\n",
       "      <td>annelies ( speak ) - i 'm savor my first and l...</td>\n",
       "      <td>NaN</td>\n",
       "    </tr>\n",
       "  </tbody>\n",
       "</table>\n",
       "<p>69 rows × 4 columns</p>\n",
       "</div>"
      ],
      "text/plain": [
       "                  artist                  song  \\\n",
       "4135            Bon Jovi          Bobby's Girl   \n",
       "3081            Iggy Pop                 Girls   \n",
       "175   Dave Matthews Band           Joyful Girl   \n",
       "2074  Christina Aguilera              My Girls   \n",
       "1845        Janis Joplin      Little Girl Blue   \n",
       "...                  ...                   ...   \n",
       "3804       Avril Lavigne    One Of Those Girls   \n",
       "3823       Conway Twitty              Bad Girl   \n",
       "2203             Journey           Little Girl   \n",
       "1305   Dusty Springfield    Mama's Little Girl   \n",
       "2644              Barbie  I Am A Girl Like You   \n",
       "\n",
       "                                                   text  \\\n",
       "4135  i 'd give you my ring , i 'd fill you with pro...   \n",
       "3081  i love girl there all over thi world hah ! lik...   \n",
       "175   you do it for the joy it bring becaus you 're ...   \n",
       "2074  my girl wear lipstick while they 're make my b...   \n",
       "1845  sit there , hmm , count your finger . what els...   \n",
       "...                                                 ...   \n",
       "3804  la la la , la la la la i know your kind of gir...   \n",
       "3823  she 's not a bad girl she 's just a sad girl p...   \n",
       "2203  it wa just the month of may , word got in my w...   \n",
       "1305  took the ribbon from my hair and i 'm let it a...   \n",
       "2644  annelies ( speak ) - i 'm savor my first and l...   \n",
       "\n",
       "                                           spotify_link  \n",
       "4135                                                NaN  \n",
       "3081  https://open.spotify.com/track/5Jwn7FaCOEvJmiW...  \n",
       "175                                                 NaN  \n",
       "2074  https://open.spotify.com/track/2GV6F4CrSMiLPDY...  \n",
       "1845  https://open.spotify.com/track/6tv6EVWMV7AIWi8...  \n",
       "...                                                 ...  \n",
       "3804  https://open.spotify.com/track/4Ib7GwWqc37GWVe...  \n",
       "3823                                                NaN  \n",
       "2203  https://open.spotify.com/track/4DEJkhYAhCTWfwl...  \n",
       "1305  https://open.spotify.com/track/5llY2OyxPgQpQQJ...  \n",
       "2644                                                NaN  \n",
       "\n",
       "[69 rows x 4 columns]"
      ]
     },
     "execution_count": 109,
     "metadata": {},
     "output_type": "execute_result"
    }
   ],
   "source": [
    "df[df['song'].str.contains(\"girl\", case=False, na=False)]\n"
   ]
  },
  {
   "cell_type": "code",
   "execution_count": 118,
   "id": "c88182f3-8f5d-49a0-95a7-7d7587d6cde5",
   "metadata": {},
   "outputs": [],
   "source": [
    "def recommendar(song_df):\n",
    "    idx = df[df['song'] == song_df].index[0]\n",
    "    distances = sorted(list(enumerate(similer[idx])),reverse=True,key=lambda x:x[1])\n",
    "    \n",
    "    songs = []\n",
    "    for m_id in distances[1:21]:\n",
    "        songs.append(df.iloc[m_id[0]].song)\n",
    "        \n",
    "    return songs"
   ]
  },
  {
   "cell_type": "code",
   "execution_count": 119,
   "id": "08b605ab-9236-4839-9d5b-a9cda7f98424",
   "metadata": {},
   "outputs": [
    {
     "name": "stdout",
     "output_type": "stream",
     "text": [
      "[\"Bobby's Girl\", 'Girls', 'Joyful Girl', 'My Girls', 'Little Girl Blue', 'Not The Girl You Think You Are', 'Girls Were Made To Take Care Of Boys', 'Golden Girl', \"If A Girl Isn't Pretty\", 'Little Girl', 'Poster Girl', 'Give That Girl A Diamond', 'Dirty Little Girl', 'Them Girls Be Like', 'Poison Girl', 'Sullen Girl', 'Rocket For The Girl', \"Girl, You'll Be A Woman Soon\", 'Hello Little Girl Goodbye', 'China Girl', 'Mississippi Girl', 'Always Be Your Girl', \"Ahe's My Kind Of Girl\", \"Girl Can't Help It\", 'I Still Have That Other Girl', 'Kimono Girl', 'Girl From Ipanema', 'That Girl Is A Cowboy', 'Another Girl', 'Hungry Country Girl', 'Girls On The Beach', 'Psycho Girl', 'The Girl Is On To You', 'Boys Girls', 'Wide Eyed Girl', \"Girls Can't Do What The Guys Do\", 'Never Loved A Girl', 'Southern Girls', 'Golden Girl', 'Girls! Girls! Girls!', 'Where Them Girls At', \"Girl Don't Come\", \"Back The Way (Girls' Point Of View)\", 'How Mountain Girls Can Love', 'Uptown Girl', 'American Girl', 'Have You Seen The Girl With Yellow Roses', 'Fire Girl', 'Fat Girls', \"Girls It Ain't Easy\", 'Good Morning Girl', 'Go Girl Go', 'Brown Eyed Girl', 'Replacement Girl', 'Boys And Girls', 'LONDON GIRL', 'Good Morning, Little Schoolgirl', 'GIRL ON THE PHONE', 'Girls Chase Boys', 'Shoeshine Girl', 'The Girls', 'A Boy Like Me, A Girl Like You', 'Bad Girls', 'I Got The Girl', 'One Of Those Girls', 'Bad Girl', 'Little Girl', \"Mama's Little Girl\", 'I Am A Girl Like You']\n"
     ]
    }
   ],
   "source": [
    "print(df[df['song'].str.contains(\"girl\", case=False, na=False)]['song'].tolist())"
   ]
  },
  {
   "cell_type": "code",
   "execution_count": 122,
   "id": "a7d9702e-129d-4294-93ef-3426f4a90d73",
   "metadata": {},
   "outputs": [],
   "source": [
    "from sklearn.feature_extraction.text import CountVectorizer\n",
    "from sklearn.metrics.pairwise import cosine_similarity\n",
    "\n",
    "cv = CountVectorizer(max_features=5000, stop_words='english')\n",
    "vector = cv.fit_transform(df['text']).toarray()\n",
    "\n",
    "similarity = cosine_similarity(vector)\n",
    "\n",
    "\n"
   ]
  },
  {
   "cell_type": "code",
   "execution_count": null,
   "id": "a8d2c0a5-ef22-44d0-9444-f6cb2b7be252",
   "metadata": {},
   "outputs": [],
   "source": []
  },
  {
   "cell_type": "code",
   "execution_count": null,
   "id": "fc627d7d-0ac0-4eaf-b437-c670fb545e80",
   "metadata": {},
   "outputs": [],
   "source": []
  },
  {
   "cell_type": "code",
   "execution_count": null,
   "id": "52eb8989-e3e6-4827-b9f7-2f251bbc9457",
   "metadata": {},
   "outputs": [],
   "source": []
  },
  {
   "cell_type": "code",
   "execution_count": null,
   "id": "93c224b9-46e7-4f9f-a7d1-04616ea8208d",
   "metadata": {},
   "outputs": [],
   "source": []
  },
  {
   "cell_type": "code",
   "execution_count": null,
   "id": "7479b1c0-065a-4c5b-be85-5b306646db8f",
   "metadata": {},
   "outputs": [],
   "source": []
  },
  {
   "cell_type": "code",
   "execution_count": null,
   "id": "eecf203b-a469-42e1-b28a-bd6ea4e2bf7e",
   "metadata": {},
   "outputs": [],
   "source": []
  },
  {
   "cell_type": "code",
   "execution_count": null,
   "id": "dfea1f17-4168-4fe2-a443-d7abe7fca5a7",
   "metadata": {},
   "outputs": [],
   "source": []
  },
  {
   "cell_type": "code",
   "execution_count": null,
   "id": "c58f0048-78e2-440f-809b-a3473ce0a57d",
   "metadata": {},
   "outputs": [],
   "source": []
  },
  {
   "cell_type": "code",
   "execution_count": null,
   "id": "32bb9190-38a8-46b8-85b9-1dcdc0b80543",
   "metadata": {},
   "outputs": [],
   "source": []
  },
  {
   "cell_type": "code",
   "execution_count": null,
   "id": "2ca4c918-54f0-4a48-94b6-9f829f78b7c1",
   "metadata": {},
   "outputs": [],
   "source": []
  },
  {
   "cell_type": "code",
   "execution_count": null,
   "id": "ff1e7a75-62ff-4d25-aa5c-958a13699926",
   "metadata": {},
   "outputs": [],
   "source": []
  },
  {
   "cell_type": "code",
   "execution_count": null,
   "id": "0c619c53-f9f5-4fd9-8d89-191559887ed5",
   "metadata": {},
   "outputs": [],
   "source": []
  },
  {
   "cell_type": "code",
   "execution_count": null,
   "id": "49a59840-f829-402f-b240-e5b6b39795ba",
   "metadata": {},
   "outputs": [],
   "source": []
  },
  {
   "cell_type": "code",
   "execution_count": null,
   "id": "213237c5-0e90-480c-8a6b-30f6d92ce9a1",
   "metadata": {},
   "outputs": [],
   "source": []
  },
  {
   "cell_type": "code",
   "execution_count": null,
   "id": "3d44798e-9317-4e62-a84a-d6bd3d566c7b",
   "metadata": {},
   "outputs": [],
   "source": []
  },
  {
   "cell_type": "code",
   "execution_count": null,
   "id": "41d76d3f-878a-41f2-8811-a0cc917a4c19",
   "metadata": {},
   "outputs": [],
   "source": []
  }
 ],
 "metadata": {
  "kernelspec": {
   "display_name": "Python 3 (ipykernel)",
   "language": "python",
   "name": "python3"
  },
  "language_info": {
   "codemirror_mode": {
    "name": "ipython",
    "version": 3
   },
   "file_extension": ".py",
   "mimetype": "text/x-python",
   "name": "python",
   "nbconvert_exporter": "python",
   "pygments_lexer": "ipython3",
   "version": "3.8.9"
  }
 },
 "nbformat": 4,
 "nbformat_minor": 5
}
